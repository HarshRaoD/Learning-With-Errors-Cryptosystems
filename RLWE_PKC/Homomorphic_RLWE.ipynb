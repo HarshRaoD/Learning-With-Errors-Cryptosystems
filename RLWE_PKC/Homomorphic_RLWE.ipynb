{
 "cells": [
  {
   "cell_type": "code",
   "execution_count": 1,
   "metadata": {},
   "outputs": [],
   "source": [
    "from RLWE_PKC import poly_to_str, RLWE_Encrypt, RLWE_Decrypt\n",
    "import numpy as np"
   ]
  },
  {
   "cell_type": "markdown",
   "metadata": {},
   "source": [
    "### Testing Homomorphicity on Addition (Bitwise XOR)"
   ]
  },
  {
   "cell_type": "code",
   "execution_count": 7,
   "metadata": {},
   "outputs": [
    {
     "name": "stdout",
     "output_type": "stream",
     "text": [
      "A_new_1 = 9x^2 + 15x + 12\n",
      "A_new_2 = 2x + 8\n",
      "T_send_1 = 20x^2 + 33x + 20\n",
      "T_send_2 = 25x^2 + 18x\n",
      "----------------------------------------------\n",
      "A_new_combined = 9x^2 + 17x + 20\n",
      "T_send_combined = 8x^2 + 14x + 20\n",
      "----------------------------------------------\n",
      "Decrypted Combined Message = [1, 1, 0]\n",
      "Message 1 = [1, 0, 0]\n",
      "Message 2 = [0, 1, 0]\n"
     ]
    }
   ],
   "source": [
    "# Define Encryption Scheme\n",
    "rlwe_d = RLWE_Decrypt(message_length=3, q=37, max_error=2, list_size=5)\n",
    "# Get public keys\n",
    "A_list, T_list, phi_x, q, max_error = rlwe_d.get_public_keys()\n",
    "# Define Public Key Encrypter\n",
    "rlwe_e = RLWE_Encrypt(A_list, T_list, phi_x, q, max_error)\n",
    "\n",
    "# Define Messages\n",
    "MESSAGE_1 = [1, 0, 0]\n",
    "MESSAGE_2 = [0, 1, 0]\n",
    "\n",
    "# Encrypting the messages independently\n",
    "A_new_1, T_send_1 = rlwe_e.encrypt_message(MESSAGE_1, max_additional_error=4)\n",
    "A_new_2, T_send_2 = rlwe_e.encrypt_message(MESSAGE_2, max_additional_error=4)\n",
    "print(f\"A_new_1 = {poly_to_str(A_new_1)}\")\n",
    "print(f\"A_new_2 = {poly_to_str(A_new_2)}\")\n",
    "print(f\"T_send_1 = {poly_to_str(T_send_1)}\")\n",
    "print(f\"T_send_2 = {poly_to_str(T_send_2)}\")\n",
    "\n",
    "# Adding the messages together\n",
    "A_new_combined = np.polyadd(A_new_1, A_new_2) % q\n",
    "T_send_combined = np.polyadd(T_send_1, T_send_2) % q\n",
    "print(f\"----------------------------------------------\")\n",
    "print(f\"A_new_combined = {poly_to_str(A_new_combined)}\")\n",
    "print(f\"T_send_combined = {poly_to_str(T_send_combined)}\")\n",
    "\n",
    "# Decrypting the combined message\n",
    "decrypted_message = rlwe_d.decrypt_message(A_new_combined, T_send_combined)\n",
    "print(f\"----------------------------------------------\")\n",
    "print(f\"Decrypted Combined Message = {decrypted_message}\")\n",
    "print(f\"Message 1 = {MESSAGE_1}\")\n",
    "print(f\"Message 2 = {MESSAGE_2}\")"
   ]
  },
  {
   "cell_type": "markdown",
   "metadata": {},
   "source": [
    "### Testing Homomorphicity on Multiplication"
   ]
  },
  {
   "cell_type": "code",
   "execution_count": 20,
   "metadata": {},
   "outputs": [
    {
     "name": "stdout",
     "output_type": "stream",
     "text": [
      "A_new_combined = 26x^8 + 15x^7 + -8\n",
      "T_send_combined = 15x^8 + 11x^7 + 13x^6 + 8x^3 + 3\n",
      "Final Message = [1, 0, 1, 0, 1, 0, 1, 1, 0]\n"
     ]
    }
   ],
   "source": [
    "# Define Encryption Scheme\n",
    "rlwe_d = RLWE_Decrypt(message_length=9, q=37, max_error=1, list_size=5)  # q value is large\n",
    "# Get public keys\n",
    "A_list, T_list, phi_x, q, max_error = rlwe_d.get_public_keys()\n",
    "# Define Public Key Encrypter\n",
    "rlwe_e = RLWE_Encrypt(A_list, T_list, phi_x, q, max_error)\n",
    "\n",
    "# Define Messages (Need to make sure product will fit in bitspace)\n",
    "MESSAGE_1 = [0, 0, 0, 0, 0 ,1, 0, 1, 0]\n",
    "MESSAGE_2 = [0, 0, 0, 0, 0, 0, 0, 0, 1]\n",
    "\n",
    "# Encrypting the messages independently (low max_additional_error to ensure output can still be decrypted)\n",
    "A_new_1, T_send_1 = rlwe_e.encrypt_message(MESSAGE_1, max_additional_error=2)\n",
    "A_new_2, T_send_2 = rlwe_e.encrypt_message(MESSAGE_2, max_additional_error=2)\n",
    "\n",
    "# Multiplying the messages together\n",
    "A_new_combined = np.polydiv((np.polymul(A_new_1, A_new_2) % q), phi_x)[1]\n",
    "T_send_combined = np.polydiv((np.polymul(T_send_1, T_send_2) % q), phi_x)[1]\n",
    "print(f\"A_new_combined = {poly_to_str(A_new_combined)}\")\n",
    "print(f\"T_send_combined = {poly_to_str(T_send_combined)}\")\n",
    "\n",
    "# Decrypting the combined message\n",
    "decrypted_message = rlwe_d.decrypt_message(A_new_combined, T_send_combined)\n",
    "print(f\"Final Message = {decrypted_message}\")"
   ]
  }
 ],
 "metadata": {
  "kernelspec": {
   "display_name": "LearnPyTorch",
   "language": "python",
   "name": "python3"
  },
  "language_info": {
   "codemirror_mode": {
    "name": "ipython",
    "version": 3
   },
   "file_extension": ".py",
   "mimetype": "text/x-python",
   "name": "python",
   "nbconvert_exporter": "python",
   "pygments_lexer": "ipython3",
   "version": "3.8.17"
  }
 },
 "nbformat": 4,
 "nbformat_minor": 2
}
