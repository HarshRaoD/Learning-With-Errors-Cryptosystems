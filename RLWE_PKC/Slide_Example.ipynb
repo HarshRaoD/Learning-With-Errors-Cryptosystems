{
 "cells": [
  {
   "cell_type": "markdown",
   "metadata": {},
   "source": [
    "# Slide Example RLWE\n",
    "This notebook covers the example from the slides i.e, without using any random numbers."
   ]
  },
  {
   "cell_type": "code",
   "execution_count": 1,
   "metadata": {},
   "outputs": [],
   "source": [
    "import numpy as np\n",
    "\n",
    "# Check for correct numpy version\n",
    "np_version = np.version.version\n",
    "if np_version[:-2] != '1.24':\n",
    "    print(f\"WARNING: NumPy version! Please use NumPy version 1.24.x for the best experience. Use of an incorrect numpy version could cause the printing of polynomials to work differently. As the expected order of polynomial coefficients was changed. In this implementation we expect the order to be highest to lowest degree.\")"
   ]
  },
  {
   "cell_type": "markdown",
   "metadata": {},
   "source": [
    "### Utility Functions"
   ]
  },
  {
   "cell_type": "code",
   "execution_count": 2,
   "metadata": {},
   "outputs": [
    {
     "name": "stdout",
     "output_type": "stream",
     "text": [
      "x^3 + x + 1\n"
     ]
    }
   ],
   "source": [
    "def poly_to_str(p) -> str:\n",
    "    \"\"\"Converts polynomial to string.  \n",
    "    Assumes all coefficients are postive integers\"\"\"\n",
    "    # Reverse the order an convert to int\n",
    "    p2 = [int(el) for el in p[::-1]]\n",
    "    p_stack = [\"\"] * len(p2)\n",
    "    \n",
    "    # Handle constant term and x term\n",
    "    p_stack[0] = str(p2[0]) if p2[0] != 0 else \"\"\n",
    "    p_stack[1] = f\"{p2[1]}x\" if (p2[1] > 1) else (\"x\" if p2[1] == 1 else \"\")\n",
    "\n",
    "    # Handle x^n terms\n",
    "    for i in range(2, len(p2)):\n",
    "        if p2[i] > 1:\n",
    "            p_stack[i] = f\"{p2[i]}x^{i}\"\n",
    "        elif p2[i] == 1:\n",
    "            p_stack[i] = f\"x^{i}\"\n",
    "\n",
    "    final_str = \"\"\n",
    "    # Reverse back\n",
    "    p_stack = p_stack[::-1]\n",
    "    # Get final output\n",
    "    for i in range(len(p_stack)):\n",
    "        if len(p_stack[i]) > 0:\n",
    "            final_str += (\" + \" if i != 0 else \"\") + p_stack[i]\n",
    "        \n",
    "    return final_str\n",
    "\n",
    "print(poly_to_str([1, 0, 1, 1]))"
   ]
  },
  {
   "cell_type": "markdown",
   "metadata": {},
   "source": [
    "### Calculate T1"
   ]
  },
  {
   "cell_type": "code",
   "execution_count": 3,
   "metadata": {},
   "outputs": [
    {
     "name": "stdout",
     "output_type": "stream",
     "text": [
      "T1 = 6x^2 + x + 5\n"
     ]
    }
   ],
   "source": [
    "phi_x= [1, 0, 0, 1]  # x^3 + 1\n",
    "q = 13  # Order of numbers\n",
    "max_error = 1\n",
    "\n",
    "S = [1, 4, 9]  # x^2 + 4x + 9\n",
    "\n",
    "A1 = [2, 7, 11]\n",
    "E1 = [1, 0, -1]\n",
    "\n",
    "def calculate_T(A, E, S, q, phi_x):\n",
    "    # Multiply A & S\n",
    "    prod1 = np.polymul(A, S)\n",
    "    # Take mod q of each number\n",
    "    prod2 = prod1 % q\n",
    "    # Reduce the polynomial back to required degree (Or to fit in GF(2))\n",
    "    prod3 = np.polydiv(prod2, phi_x)[1] % q  # [1] to take the remainder\n",
    "    # Add the errors\n",
    "    final_t = np.polyadd(prod3, E) % q  \n",
    "\n",
    "    return final_t\n",
    "\n",
    "T1 = calculate_T(A1, E1, S, q, phi_x)\n",
    "print(f\"T1 = {poly_to_str(T1)}\")"
   ]
  },
  {
   "cell_type": "markdown",
   "metadata": {},
   "source": [
    "### Calculate T2"
   ]
  },
  {
   "cell_type": "code",
   "execution_count": 4,
   "metadata": {},
   "outputs": [
    {
     "name": "stdout",
     "output_type": "stream",
     "text": [
      "T2 = 10x^2 + x + 9\n"
     ]
    }
   ],
   "source": [
    "A2 = [6, 8, 3]\n",
    "E2 = [-1, 1, 1]\n",
    "\n",
    "T2 = calculate_T(A2, E2, S, q, phi_x)\n",
    "print(f\"T2 = {poly_to_str(T2)}\")"
   ]
  },
  {
   "cell_type": "markdown",
   "metadata": {},
   "source": [
    "### Keys"
   ]
  },
  {
   "cell_type": "code",
   "execution_count": 5,
   "metadata": {},
   "outputs": [
    {
     "name": "stdout",
     "output_type": "stream",
     "text": [
      "Public Key:\n",
      "A1 = 2x^2 + 7x + 11\n",
      "A2 = 6x^2 + 8x + 3\n",
      "T1 = 6x^2 + x + 5\n",
      "T2 = 10x^2 + x + 9\n",
      "q = 13\n",
      "phi_x = x^3 + 1\n",
      "max_error = 1\n",
      "---------------------------------------------------------\n",
      "Private Key:\n",
      "S = x^2 + 4x + 9\n"
     ]
    }
   ],
   "source": [
    "print(\"Public Key:\")\n",
    "print(f\"A1 = {poly_to_str(A1)}\\nA2 = {poly_to_str(A2)}\\nT1 = {poly_to_str(T1)}\\nT2 = {poly_to_str(T2)}\\nq = {q}\\nphi_x = {poly_to_str(phi_x)}\\nmax_error = {max_error}\")\n",
    "print(\"---------------------------------------------------------\")\n",
    "print(\"Private Key:\")\n",
    "print(f\"S = {poly_to_str(S)}\")"
   ]
  },
  {
   "cell_type": "markdown",
   "metadata": {},
   "source": [
    "### Encryption"
   ]
  },
  {
   "cell_type": "code",
   "execution_count": 6,
   "metadata": {},
   "outputs": [
    {
     "name": "stdout",
     "output_type": "stream",
     "text": [
      "Sending:\n",
      "A_new = 8x^2 + 2x + 1\n",
      "T_send = 9x^2 + 8x + 1\n"
     ]
    }
   ],
   "source": [
    "Message = [1, 1, 0]\n",
    "\n",
    "# Calculate A_new & T_new (Can choose any weighted sum)\n",
    "A_new = np.polyadd(A1, A2) % q\n",
    "T_new = np.polyadd(T1, T2) % q\n",
    "\n",
    "# Add message\n",
    "new_message = [(q // 2) * m for m in Message]\n",
    "T_send = np.polyadd(T_new, new_message) % q\n",
    "\n",
    "# Send\n",
    "print(f\"Sending:\\nA_new = {poly_to_str(A_new)}\\nT_send = {poly_to_str(T_send)}\")"
   ]
  },
  {
   "cell_type": "markdown",
   "metadata": {},
   "source": [
    "### Decryption"
   ]
  },
  {
   "cell_type": "code",
   "execution_count": 7,
   "metadata": {},
   "outputs": [
    {
     "name": "stdout",
     "output_type": "stream",
     "text": [
      "Final Message = [1, 1, 0]\n"
     ]
    }
   ],
   "source": [
    "# Find T_ideal\n",
    "T_ideal = calculate_T(A_new, [0]*len(A_new), S, q, phi_x)\n",
    "\n",
    "# T_send - T_ideal\n",
    "Message_Draft = T_send - T_ideal\n",
    "\n",
    "final_message = []\n",
    "for m_bit in Message_Draft:\n",
    "    message_bit = ((m_bit + (q//4)) % q) // (q//2)\n",
    "    final_message.append(int(message_bit))\n",
    "\n",
    "print(f\"Final Message = {final_message}\")"
   ]
  },
  {
   "cell_type": "markdown",
   "metadata": {},
   "source": [
    "### Encyption with extra errors\n",
    "(Cannot be used with this example as max_error_can_add = 0)"
   ]
  },
  {
   "cell_type": "code",
   "execution_count": 11,
   "metadata": {},
   "outputs": [
    {
     "name": "stdout",
     "output_type": "stream",
     "text": [
      "max_error_can_add = 0\n"
     ]
    }
   ],
   "source": [
    "Message = [1, 1, 0]\n",
    "\n",
    "# Calculate A_new & T_new (Can choose any weighted sum)\n",
    "A_new = np.polyadd(A1, A2) % q\n",
    "T_new = np.polyadd(T1, T2) % q\n",
    "\n",
    "# Add extra errors to T_new\n",
    "max_error_can_add = (q//4) - (2 * max_error) - 1  # The amount of extra error that can be added\n",
    "print(f\"max_error_can_add = {max_error_can_add}\")"
   ]
  }
 ],
 "metadata": {
  "kernelspec": {
   "display_name": "LearnPyTorch",
   "language": "python",
   "name": "python3"
  },
  "language_info": {
   "codemirror_mode": {
    "name": "ipython",
    "version": 3
   },
   "file_extension": ".py",
   "mimetype": "text/x-python",
   "name": "python",
   "nbconvert_exporter": "python",
   "pygments_lexer": "ipython3",
   "version": "3.8.17"
  }
 },
 "nbformat": 4,
 "nbformat_minor": 2
}
