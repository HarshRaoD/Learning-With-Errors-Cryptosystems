{
 "cells": [
  {
   "cell_type": "code",
   "execution_count": 1,
   "metadata": {},
   "outputs": [],
   "source": [
    "import numpy as np\n",
    "import numpy.polynomial as p"
   ]
  },
  {
   "cell_type": "code",
   "execution_count": 6,
   "metadata": {},
   "outputs": [
    {
     "name": "stdout",
     "output_type": "stream",
     "text": [
      "A_new = [ 4.  1. 11. 10.]\n",
      "prod1 = [ 24  42 119 214 222 231 110]\n",
      "prod2 = [ 0  6 11 10  6  3  2]\n",
      "prod3 = [10.  6.  9.  3.]\n",
      "final = [10.  5. 10.  4.]\n"
     ]
    }
   ],
   "source": [
    "# Coefficients\n",
    "A = [4, 1, 11, 10]  # Represents 4 + 1x + 11x2 + 10x3\n",
    "# Secret\n",
    "sA = [6, 9, 11, 11]  # Represents 6 + 9x + 11x2 + 11x3\n",
    "# Errors\n",
    "eA = [0, -1, 1, 1]\n",
    "# Base Polynomial for division\n",
    "xN_1 = [1, 0, 0, 0, 1]  # Represents 1 + x^4\n",
    "# Max value\n",
    "q = 12\n",
    "\n",
    "A_new = np.polydiv(A, xN_1)[1] % q\n",
    "prod1 = np.polymul(A, sA)\n",
    "prod2 = prod1 % q\n",
    "prod3 = np.polydiv(prod2, xN_1)[1] % q\n",
    "final = np.polyadd(prod3, eA) % q\n",
    "\n",
    "print(f\"A_new = {A_new}\\nprod1 = {prod1}\\nprod2 = {prod2}\\nprod3 = {prod3}\\nfinal = {final}\")"
   ]
  },
  {
   "cell_type": "code",
   "execution_count": null,
   "metadata": {},
   "outputs": [],
   "source": []
  },
  {
   "cell_type": "markdown",
   "metadata": {},
   "source": [
    "# Copy Paste Section"
   ]
  },
  {
   "cell_type": "code",
   "execution_count": 5,
   "metadata": {},
   "outputs": [
    {
     "name": "stdout",
     "output_type": "stream",
     "text": [
      "[4, 1, 11, 10] [6, 9, 11, 11] [0, -1, 1, 1]\n",
      "[1, 0, 0, 0, 1]\n",
      "Print output\n",
      " [6. 2. 8. 5.]\n"
     ]
    }
   ],
   "source": [
    "import numpy as np\n",
    "\n",
    "\n",
    "A = [4,1,11,10]\n",
    "sA = [6,9,11,11]\n",
    "eA =[0,-1,1,1]\n",
    "\n",
    "n=len(A)\n",
    "q=13\n",
    "\n",
    "print (A,sA,eA)\n",
    "\n",
    "xN_1 = [1] + [0] * (n-1) + [1]\n",
    "\n",
    "print (xN_1)\n",
    "A = np.floor(np.polydiv(A,xN_1)[1])\n",
    "\n",
    "bA = np.polymul(A,sA)%q\n",
    "bA = np.floor(np.polydiv(bA,xN_1)[1])\n",
    "\n",
    "bA = np.polyadd(bA,eA)%q\n",
    "bA = np.floor(np.polydiv(bA,xN_1)[1])\n",
    "print (\"Print output\\n\",bA)"
   ]
  },
  {
   "cell_type": "code",
   "execution_count": 9,
   "metadata": {},
   "outputs": [],
   "source": [
    "sB = [2, 1, 3, 4]\n",
    "eB = [1, 0 , -1, 0]\n",
    "\n",
    "bB = np.polymul(A,sB)%q\n",
    "bB = np.floor(np.polydiv(sB,xN_1)[1])\n",
    "bB = np.polyadd(bB,eB)%q"
   ]
  },
  {
   "cell_type": "code",
   "execution_count": 11,
   "metadata": {},
   "outputs": [],
   "source": [
    "sharedAlice = np.floor(np.polymul(sA,bB)%q)\n",
    "sharedAlice = np.floor(np.polydiv(sharedAlice,xN_1)[1])%q \n",
    "sharedBob = np.floor(np.polymul(sB,bA)%q)\n",
    "sharedBob = np.floor(np.polydiv(sharedBob,xN_1)[1])%q"
   ]
  },
  {
   "cell_type": "code",
   "execution_count": 12,
   "metadata": {},
   "outputs": [
    {
     "data": {
      "text/plain": [
       "array([2., 3., 9., 2.])"
      ]
     },
     "execution_count": 12,
     "metadata": {},
     "output_type": "execute_result"
    }
   ],
   "source": [
    "sharedAlice"
   ]
  },
  {
   "cell_type": "code",
   "execution_count": 13,
   "metadata": {},
   "outputs": [
    {
     "data": {
      "text/plain": [
       "array([1., 1., 8.])"
      ]
     },
     "execution_count": 13,
     "metadata": {},
     "output_type": "execute_result"
    }
   ],
   "source": [
    "sharedBob"
   ]
  }
 ],
 "metadata": {
  "kernelspec": {
   "display_name": "LearnPyTorch",
   "language": "python",
   "name": "python3"
  },
  "language_info": {
   "codemirror_mode": {
    "name": "ipython",
    "version": 3
   },
   "file_extension": ".py",
   "mimetype": "text/x-python",
   "name": "python",
   "nbconvert_exporter": "python",
   "pygments_lexer": "ipython3",
   "version": "3.8.17"
  }
 },
 "nbformat": 4,
 "nbformat_minor": 2
}
