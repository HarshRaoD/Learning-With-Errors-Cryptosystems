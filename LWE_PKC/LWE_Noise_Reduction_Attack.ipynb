{
 "cells": [
  {
   "cell_type": "code",
   "execution_count": 1,
   "metadata": {},
   "outputs": [],
   "source": [
    "import os\n",
    "\n",
    "ROOT_DIR = \"D:\\Coding\\CZ4010\\Applied-Cryptography-Project\"\n",
    "os.chdir(ROOT_DIR)"
   ]
  },
  {
   "cell_type": "code",
   "execution_count": 2,
   "metadata": {},
   "outputs": [],
   "source": [
    "from utils import ascii_to_binary_list, binary_list_to_ascii\n",
    "from LWE_PKC_Weakened import LWE_Encrypt, LWE_Decrypt"
   ]
  },
  {
   "cell_type": "markdown",
   "metadata": {},
   "source": [
    "### 1. Testing out the Cryptosystem"
   ]
  },
  {
   "cell_type": "code",
   "execution_count": 14,
   "metadata": {},
   "outputs": [
    {
     "ename": "TypeError",
     "evalue": "'int' object is not iterable",
     "output_type": "error",
     "traceback": [
      "\u001b[1;31m---------------------------------------------------------------------------\u001b[0m",
      "\u001b[1;31mTypeError\u001b[0m                                 Traceback (most recent call last)",
      "\u001b[1;32md:\\Coding\\CZ4010\\Applied-Cryptography-Project\\LWE_PKC\\LWE_Noise_Reduction_Attack.ipynb Cell 4\u001b[0m line \u001b[0;36m2\n\u001b[0;32m      <a href='vscode-notebook-cell:/d%3A/Coding/CZ4010/Applied-Cryptography-Project/LWE_PKC/LWE_Noise_Reduction_Attack.ipynb#X15sZmlsZQ%3D%3D?line=0'>1</a>\u001b[0m MESSAGE \u001b[39m=\u001b[39m \u001b[39m1\u001b[39m\n\u001b[1;32m----> <a href='vscode-notebook-cell:/d%3A/Coding/CZ4010/Applied-Cryptography-Project/LWE_PKC/LWE_Noise_Reduction_Attack.ipynb#X15sZmlsZQ%3D%3D?line=1'>2</a>\u001b[0m msg_binary \u001b[39m=\u001b[39m ascii_to_binary_list(MESSAGE)\n",
      "File \u001b[1;32mD:\\Coding\\CZ4010\\Applied-Cryptography-Project\\utils.py:4\u001b[0m, in \u001b[0;36mascii_to_binary_list\u001b[1;34m(input_string)\u001b[0m\n\u001b[0;32m      1\u001b[0m \u001b[39mdef\u001b[39;00m \u001b[39mascii_to_binary_list\u001b[39m(input_string):\n\u001b[0;32m      2\u001b[0m     binary_list \u001b[39m=\u001b[39m []\n\u001b[1;32m----> 4\u001b[0m     \u001b[39mfor\u001b[39;00m char \u001b[39min\u001b[39;00m input_string:\n\u001b[0;32m      5\u001b[0m         \u001b[39m# Convert each character to its ASCII representation and then to binary\u001b[39;00m\n\u001b[0;32m      6\u001b[0m         binary_representation \u001b[39m=\u001b[39m \u001b[39mbin\u001b[39m(\u001b[39mord\u001b[39m(char))[\u001b[39m2\u001b[39m:]\n\u001b[0;32m      8\u001b[0m         \u001b[39m# Ensure each binary representation is 8 bits long by padding with leading zeros\u001b[39;00m\n",
      "\u001b[1;31mTypeError\u001b[0m: 'int' object is not iterable"
     ]
    }
   ],
   "source": [
    "MESSAGE = \"\"\n",
    "msg_binary = ascii_to_binary_list(MESSAGE)"
   ]
  },
  {
   "cell_type": "code",
   "execution_count": 10,
   "metadata": {},
   "outputs": [
    {
     "name": "stdout",
     "output_type": "stream",
     "text": [
      "[[ 5 10  2]\n",
      " [ 7  1  7]\n",
      " [ 7 16  6]\n",
      " [15 11  3]]\n",
      "[ 4 10 15 14]\n",
      "17\n",
      "1\n"
     ]
    }
   ],
   "source": [
    "# Initialize PKC with parameters\n",
    "lwe_d = LWE_Decrypt(n=3, q=17, max_error=1, list_size=4)\n",
    "\n",
    "# Get public keys\n",
    "A_list, T_list, q, max_error = lwe_d.get_public_keys()\n",
    "print(A_list)\n",
    "print(T_list)\n",
    "print(q)\n",
    "print(max_error)"
   ]
  },
  {
   "cell_type": "code",
   "execution_count": 15,
   "metadata": {},
   "outputs": [
    {
     "name": "stdout",
     "output_type": "stream",
     "text": [
      "A_new = [array([3, 4, 5], dtype=int32)]\n",
      "T_send = [9]\n"
     ]
    }
   ],
   "source": [
    "# Encrypt Message\n",
    "lwe_e = LWE_Encrypt(A_list, T_list, q, max_error)\n",
    "A_new, T_send = lwe_e.encrypt_message([1])\n",
    "print(f\"A_new = {A_new}\\nT_send = {T_send}\")"
   ]
  },
  {
   "cell_type": "code",
   "execution_count": 16,
   "metadata": {},
   "outputs": [
    {
     "name": "stdout",
     "output_type": "stream",
     "text": [
      "Decrypted Message = \u0001\n"
     ]
    }
   ],
   "source": [
    "# Decrypt Message\n",
    "decrypted_binary_message = lwe_d.decrypt_message(A_new, T_send)\n",
    "decrypted_message = binary_list_to_ascii(decrypted_binary_message)\n",
    "print(f\"Decrypted Message = {decrypted_message}\")"
   ]
  },
  {
   "cell_type": "code",
   "execution_count": 17,
   "metadata": {},
   "outputs": [
    {
     "data": {
      "text/plain": [
       "[1]"
      ]
     },
     "execution_count": 17,
     "metadata": {},
     "output_type": "execute_result"
    }
   ],
   "source": [
    "decrypted_binary_message"
   ]
  },
  {
   "cell_type": "markdown",
   "metadata": {},
   "source": [
    "### Noise Reduction Attack\n",
    "\n",
    "A brute force attack when the max_error parameter is small."
   ]
  },
  {
   "cell_type": "code",
   "execution_count": null,
   "metadata": {},
   "outputs": [],
   "source": []
  }
 ],
 "metadata": {
  "kernelspec": {
   "display_name": "cz4010",
   "language": "python",
   "name": "python3"
  },
  "language_info": {
   "codemirror_mode": {
    "name": "ipython",
    "version": 3
   },
   "file_extension": ".py",
   "mimetype": "text/x-python",
   "name": "python",
   "nbconvert_exporter": "python",
   "pygments_lexer": "ipython3",
   "version": "3.10.13"
  }
 },
 "nbformat": 4,
 "nbformat_minor": 2
}
