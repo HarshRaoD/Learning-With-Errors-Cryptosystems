{
 "cells": [
  {
   "cell_type": "code",
   "execution_count": 7,
   "metadata": {},
   "outputs": [],
   "source": [
    "from LWE_PKC import LWE_Encrypt, LWE_Decrypt"
   ]
  },
  {
   "cell_type": "markdown",
   "metadata": {},
   "source": [
    "### 1. Testing out the Cryptosystem"
   ]
  },
  {
   "cell_type": "code",
   "execution_count": 9,
   "metadata": {},
   "outputs": [
    {
     "name": "stdout",
     "output_type": "stream",
     "text": [
      "message = [1, 1, 0]\n"
     ]
    }
   ],
   "source": [
    "# Initialize PKC with parameters\n",
    "lwe_d = LWE_Decrypt(n=5, q=109, max_error=4, list_size=12)\n",
    "MESSAGE = [1, 1, 0]\n",
    "print(f\"message = {MESSAGE}\")"
   ]
  },
  {
   "cell_type": "code",
   "execution_count": 12,
   "metadata": {},
   "outputs": [
    {
     "name": "stdout",
     "output_type": "stream",
     "text": [
      "[[ 95  24  79  19  78]\n",
      " [ 37  59  77  35  62]\n",
      " [ 61   8 106  49  82]\n",
      " [ 36  61  17  73  32]\n",
      " [ 53  60   8  11  63]\n",
      " [ 64 108  29  41  90]\n",
      " [ 99  30  93  64   9]\n",
      " [ 56  27 102 103  19]\n",
      " [ 62  18  81  60  56]\n",
      " [ 11  56  84  67  67]\n",
      " [ 66  22  17  65  28]\n",
      " [ 12 108  77  25 108]]\n",
      "[ 71  18  70  51 106  25  78   7 106   7  91  79]\n",
      "109\n",
      "4\n"
     ]
    }
   ],
   "source": [
    "# Get public keys\n",
    "A_list, T_list, q, max_error = lwe_d.get_public_keys()\n",
    "print(A_list)\n",
    "print(T_list)\n",
    "print(q)\n",
    "print(max_error)"
   ]
  },
  {
   "cell_type": "code",
   "execution_count": 13,
   "metadata": {},
   "outputs": [
    {
     "name": "stdout",
     "output_type": "stream",
     "text": [
      "A_new = [array([101,   4,  99,  73,  75], dtype=int32), array([69, 21, 97, 97, 47], dtype=int32), array([103,  13,  95,  30,  91], dtype=int32)]\n",
      "T_send = [54, 95, 70]\n"
     ]
    }
   ],
   "source": [
    "# Encrypt Message\n",
    "lwe_e = LWE_Encrypt(A_list, T_list, q, max_error)\n",
    "A_new, T_send = lwe_e.encrypt_message(MESSAGE)\n",
    "print(f\"A_new = {A_new}\\nT_send = {T_send}\")"
   ]
  },
  {
   "cell_type": "code",
   "execution_count": 21,
   "metadata": {},
   "outputs": [
    {
     "name": "stdout",
     "output_type": "stream",
     "text": [
      "decrypted_message = [1, 1, 0]\n"
     ]
    }
   ],
   "source": [
    "# Decrypt Message\n",
    "decrypted_message = lwe_d.decrypt_message(A_new, T_send)\n",
    "print(f\"decrypted_message = {decrypted_message}\")"
   ]
  },
  {
   "cell_type": "markdown",
   "metadata": {},
   "source": [
    "### Noise Reduction Attack\n",
    "\n",
    "A brute force attack when the max_error parameter is small."
   ]
  },
  {
   "cell_type": "code",
   "execution_count": null,
   "metadata": {},
   "outputs": [],
   "source": []
  }
 ],
 "metadata": {
  "kernelspec": {
   "display_name": "cz4010",
   "language": "python",
   "name": "python3"
  },
  "language_info": {
   "codemirror_mode": {
    "name": "ipython",
    "version": 3
   },
   "file_extension": ".py",
   "mimetype": "text/x-python",
   "name": "python",
   "nbconvert_exporter": "python",
   "pygments_lexer": "ipython3",
   "version": "3.10.13"
  }
 },
 "nbformat": 4,
 "nbformat_minor": 2
}
