{
 "cells": [
  {
   "cell_type": "markdown",
   "metadata": {},
   "source": [
    "# Slide Example LWE\n",
    "This notebook covers the example from the slides."
   ]
  },
  {
   "cell_type": "code",
   "execution_count": 1,
   "metadata": {},
   "outputs": [],
   "source": [
    "import numpy as np\n",
    "import secrets\n",
    "\n",
    "# Check for correct numpy version\n",
    "np_version = np.version.version\n",
    "if np_version[:-2] != '1.24':\n",
    "    print(f\"WARNING: NumPy version! Please use NumPy version 1.24.x for the best experience. Use of an incorrect numpy version could cause the printing of polynomials to work differently. As the expected order of polynomial coefficients was changed. In this implementation we expect the order to be highest to lowest degree.\")"
   ]
  },
  {
   "cell_type": "code",
   "execution_count": 2,
   "metadata": {},
   "outputs": [
    {
     "name": "stdout",
     "output_type": "stream",
     "text": [
      "[11  4  9]\n"
     ]
    }
   ],
   "source": [
    "q = 13\n",
    "max_error = 1\n",
    "\n",
    "S = np.array([1, 4, 9])\n",
    "A_list = np.array([\n",
    "    [1, 2, 3],\n",
    "    [7, 4, 8],\n",
    "    [12, 6, 0]\n",
    "])  # No of rows can be anything but no of columns must match length of secret\n",
    "E_list = np.array([1, 0, -1])  # dimensions must match no of rows in As\n",
    "\n",
    "def calculate_T(As, S, Es, q):\n",
    "    # Multiply A & S\n",
    "    T_no_errors = np.matmul(As, S) % q\n",
    "    T_with_errors = (T_no_errors + Es) % q\n",
    "\n",
    "    return T_with_errors\n",
    "\n",
    "T_list = calculate_T(A_list, S, E_list, q)\n",
    "print(T_list)"
   ]
  },
  {
   "cell_type": "markdown",
   "metadata": {},
   "source": [
    "### Keys"
   ]
  },
  {
   "cell_type": "code",
   "execution_count": 3,
   "metadata": {},
   "outputs": [
    {
     "name": "stdout",
     "output_type": "stream",
     "text": [
      "Public Key:\n",
      "q = 13\n",
      "max_error = 1\n",
      "A_list = [[ 1  2  3]\n",
      " [ 7  4  8]\n",
      " [12  6  0]]\n",
      "T_list = [11  4  9]\n",
      "--------------------------------------------------\n",
      "Private Key:\n",
      "S = [1 4 9]\n"
     ]
    }
   ],
   "source": [
    "print(f\"Public Key:\")\n",
    "print(f\"q = {q}\\nmax_error = {max_error}\\nA_list = {A_list}\\nT_list = {T_list}\")\n",
    "print(\"--------------------------------------------------\")\n",
    "print(f\"Private Key:\")\n",
    "print(f\"S = {S}\")"
   ]
  },
  {
   "cell_type": "markdown",
   "metadata": {},
   "source": [
    "### Encryption"
   ]
  },
  {
   "cell_type": "code",
   "execution_count": 4,
   "metadata": {},
   "outputs": [
    {
     "name": "stdout",
     "output_type": "stream",
     "text": [
      "Sending:\n",
      "T_send = 8\n",
      "A_new = [1 8 3]\n"
     ]
    }
   ],
   "source": [
    "max_equation_weights = 2\n",
    "A_indexes = [secrets.randbelow(len(A_list)) for _ in range(max_equation_weights)]\n",
    "\n",
    "A_new = (A_list[A_indexes[0]] + A_list[A_indexes[1]]) % q\n",
    "T_new = (T_list[A_indexes[0]] + T_list[A_indexes[1]]) % q\n",
    "\n",
    "Message = 0  # Can only send 1 bit per equation\n",
    "\n",
    "# Add Message\n",
    "new_message = Message * (q // 2)\n",
    "T_send = (T_new + new_message) % q\n",
    "\n",
    "print(f\"Sending:\\nT_send = {T_send}\\nA_new = {A_new}\")"
   ]
  },
  {
   "cell_type": "markdown",
   "metadata": {},
   "source": [
    "### Decryption"
   ]
  },
  {
   "cell_type": "code",
   "execution_count": 5,
   "metadata": {},
   "outputs": [
    {
     "name": "stdout",
     "output_type": "stream",
     "text": [
      "Final Message = 0\n"
     ]
    }
   ],
   "source": [
    "# Find T_ideal\n",
    "T_ideal = np.matmul(A_new, S) % q\n",
    "\n",
    "Message_Draft = T_send - T_ideal\n",
    "\n",
    "final_message = ((Message_Draft + (q//4)) % q) // (q//2)\n",
    "\n",
    "print(f\"Final Message = {final_message}\")"
   ]
  }
 ],
 "metadata": {
  "kernelspec": {
   "display_name": "LearnPyTorch",
   "language": "python",
   "name": "python3"
  },
  "language_info": {
   "codemirror_mode": {
    "name": "ipython",
    "version": 3
   },
   "file_extension": ".py",
   "mimetype": "text/x-python",
   "name": "python",
   "nbconvert_exporter": "python",
   "pygments_lexer": "ipython3",
   "version": "3.8.17"
  }
 },
 "nbformat": 4,
 "nbformat_minor": 2
}
