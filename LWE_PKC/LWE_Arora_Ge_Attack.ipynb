{
 "cells": [
  {
   "cell_type": "markdown",
   "metadata": {},
   "source": [
    "## Arora-Ge Attack on LWE Demonstration"
   ]
  },
  {
   "cell_type": "markdown",
   "metadata": {},
   "source": [
    "### 0. Dependencies and Directories"
   ]
  },
  {
   "cell_type": "code",
   "execution_count": 1,
   "metadata": {},
   "outputs": [],
   "source": [
    "# Set root directory\n",
    "import os\n",
    "\n",
    "ROOT_DIR = \"D:\\Coding\\CZ4010\\Applied-Cryptography-Project\"\n",
    "os.chdir(ROOT_DIR)"
   ]
  },
  {
   "cell_type": "code",
   "execution_count": 2,
   "metadata": {},
   "outputs": [],
   "source": [
    "import numpy as np\n",
    "from math import comb\n",
    "from pprint import pprint\n",
    "\n",
    "from LWE_PKC import LWE_Encrypt, LWE_Decrypt\n",
    "from utils import ascii_to_binary_list, binary_list_to_ascii"
   ]
  },
  {
   "cell_type": "markdown",
   "metadata": {},
   "source": [
    "### 1. Testing out the Cryptosystem\n",
    "\n",
    "We will encrypt a binary encoded message."
   ]
  },
  {
   "cell_type": "code",
   "execution_count": 17,
   "metadata": {},
   "outputs": [
    {
     "name": "stdout",
     "output_type": "stream",
     "text": [
      "Message: My username is RahulG1309.\n",
      "\n",
      "Encoded: [0, 1, 0, 0, 1, 1, 0, 1, 0, 1, 1, 1, 1, 0, 0, 1, 0, 0, 1, 0, 0, 0, 0, 0, 0, 1, 1, 1, 0, 1, 0, 1, 0, 1, 1, 1, 0, 0, 1, 1, 0, 1, 1, 0, 0, 1, 0, 1, 0, 1, 1, 1, 0, 0, 1, 0, 0, 1, 1, 0, 1, 1, 1, 0, 0, 1, 1, 0, 0, 0, 0, 1, 0, 1, 1, 0, 1, 1, 0, 1, 0, 1, 1, 0, 0, 1, 0, 1, 0, 0, 1, 0, 0, 0, 0, 0, 0, 1, 1, 0, 1, 0, 0, 1, 0, 1, 1, 1, 0, 0, 1, 1, 0, 0, 1, 0, 0, 0, 0, 0, 0, 1, 0, 1, 0, 0, 1, 0, 0, 1, 1, 0, 0, 0, 0, 1, 0, 1, 1, 0, 1, 0, 0, 0, 0, 1, 1, 1, 0, 1, 0, 1, 0, 1, 1, 0, 1, 1, 0, 0, 0, 1, 0, 0, 0, 1, 1, 1, 0, 0, 1, 1, 0, 0, 0, 1, 0, 0, 1, 1, 0, 0, 1, 1, 0, 0, 1, 1, 0, 0, 0, 0, 0, 0, 1, 1, 1, 0, 0, 1, 0, 0, 1, 0, 1, 1, 1, 0]\n"
     ]
    }
   ],
   "source": [
    "# Encode message with binary bits\n",
    "message_ascii = \"My username is RahulG1309.\"\n",
    "message_binary = ascii_to_binary_list(message_ascii)\n",
    "\n",
    "print(f\"Message: {message_ascii}\")\n",
    "print(f\"\\nEncoded: {message_binary}\")"
   ]
  },
  {
   "cell_type": "code",
   "execution_count": 18,
   "metadata": {},
   "outputs": [],
   "source": [
    "# LWE Parameters\n",
    "n = 10\n",
    "q = 9377\n",
    "max_error = 1\n",
    "\n",
    "# If we have sufficient samples we can recover the secret.\n",
    "m = 500\n",
    "\n",
    "# Initialize PKC with parameters\n",
    "lwe_d = LWE_Decrypt(n=n, q=q, max_error=max_error, list_size=m)"
   ]
  },
  {
   "cell_type": "code",
   "execution_count": 19,
   "metadata": {},
   "outputs": [
    {
     "name": "stdout",
     "output_type": "stream",
     "text": [
      "A_list:\n",
      "array([[1132, 7594, 6908, ..., 6741, 3223, 5375],\n",
      "       [1192, 7370, 7052, ..., 4012, 8053, 2826],\n",
      "       [1360, 6901,  664, ..., 8362, 5230, 1106],\n",
      "       ...,\n",
      "       [3137, 5466,  147, ..., 2225, 5611, 8863],\n",
      "       [9257, 4537, 8070, ..., 1109, 7374, 9354],\n",
      "       [ 570, 2046, 2581, ..., 2952, 3221, 7301]])\n",
      "\n",
      "T_list:\n",
      "array([6252, 2619, 7819, 7247, 1926, 5484, 1486, 2090, 9229,  476, 4957,\n",
      "       5203, 2843, 9222, 8913, 6704, 8756, 7358, 6188, 4062, 7471,  613,\n",
      "       8726,  940, 6244, 7730, 1796, 9131, 7239, 4886, 3158, 8487, 7052,\n",
      "       8847, 1210, 4833,  520, 1401, 2795, 7618, 2129, 6586,  317, 3692,\n",
      "        756, 4018, 4851, 6681, 1393,  664, 4676, 5325, 7839, 8164,  856,\n",
      "       1284, 7517,  265, 6292, 8515,  564, 2981, 9216, 5186, 6690, 9278,\n",
      "       4469, 2884, 5585, 7141, 6467, 6460, 3575, 7717, 3919, 7198,  951,\n",
      "       1302, 4968, 5586, 5190, 8512, 9324, 5557,  655, 6617, 4179, 8478,\n",
      "       5065, 8288, 5784, 5270, 7068, 9149, 6962, 5442,  867, 7770, 6724,\n",
      "       3252,    1, 2603, 8568, 8497, 8597, 4933, 4565,  914, 4243, 5649,\n",
      "       3397, 7781, 7549, 7471, 4746, 7863, 1280, 5703, 4298, 2991, 2145,\n",
      "       7881, 6715, 1487,    6, 1990, 7795, 3787, 1171, 2427, 3493, 8004,\n",
      "       2480, 5092, 7297, 2666, 8534, 2779, 2552, 2513, 1033, 6309, 4193,\n",
      "       3688, 2041, 5311, 3797, 1167,  113, 5140, 2599,  652, 3960, 5410,\n",
      "       5216,  462, 3732, 1714, 5695, 3894, 2400, 8570, 3744, 6583,  199,\n",
      "       4938, 3793, 5594, 8366, 1064, 5795, 5301, 7272,  814, 6619,  911,\n",
      "       4730, 4379, 4064, 8856, 6460, 2881, 5318, 5546, 7179, 9221, 6366,\n",
      "       8860, 2201, 4846,  871, 2278, 2329, 3307, 4773, 5138, 6086, 2109,\n",
      "       2052, 7733, 6427, 4308, 8398, 4242, 6760, 1154, 5625, 9175, 3162,\n",
      "       5514,  685, 1906,  291, 1772, 1944, 1596, 7290, 6849,  716, 8294,\n",
      "       7623, 7979, 6030, 4828, 6441, 4783, 6865, 8714, 7356, 7941, 7392,\n",
      "       6443, 5279, 4455, 4951, 3420, 2829, 4263, 7505, 9175, 7520, 3468,\n",
      "       6585, 9234, 8808, 3997, 1597, 3117, 8533, 7060, 5085, 1044, 7917,\n",
      "       7490, 4190, 2435, 4783, 2544, 1393, 6370, 6409,  369, 5849, 1628,\n",
      "       9129,  602, 1589, 3314, 5906, 3216, 7451, 1751, 7906, 4381, 4412,\n",
      "       2603, 2593, 2559, 3196, 6951, 3147, 4955, 1984, 1143, 2211, 8182,\n",
      "       5417, 7867, 3400,  953, 5413, 3500, 5093, 7833, 5126, 2002, 6484,\n",
      "       2636, 4888, 6817, 8422,  545,   58, 4614, 7896, 7766, 9220, 3262,\n",
      "       2610, 6662, 8788, 1835, 4789, 6047, 6452, 6131, 7187,  804, 6571,\n",
      "       4640, 8352, 5365, 3637, 6282, 3414, 4877, 5755,  168, 6198,  889,\n",
      "       7280, 5614, 2834, 5388, 9064, 7296, 9170, 1832, 5969, 3335,  837,\n",
      "       9349, 4285,  155, 4224,  187, 1753, 7071, 8076, 4545, 1239, 7696,\n",
      "       1664, 3566,  239, 2287, 2289, 4765,   55, 7319, 8267,  299, 7025,\n",
      "       4671, 3847, 2356, 5474, 3405, 7788, 9208, 4126, 3720, 3125, 1434,\n",
      "       6386, 4562, 8047, 2382, 1478,  292, 6705, 1280, 3143, 4200, 8327,\n",
      "       1296, 2502, 4584, 7109, 8067, 6707,  456, 5819,  632, 4163,  418,\n",
      "       3990, 1551, 3720, 5663, 4653, 5877, 3981, 4887, 8883, 2056, 7652,\n",
      "       3836, 2862, 6156, 1359, 8442, 7835, 3390, 4734, 6653, 3950, 4705,\n",
      "       3515, 8383, 1746, 5376, 8654, 9115, 8743, 2185, 3095, 8969, 6115,\n",
      "       1851, 2625, 8779, 5420, 4072, 5321, 5792,  604, 7485, 7711, 8483,\n",
      "       3255, 4549, 5111, 9186, 1572, 6086, 3756, 4823, 8379, 4303, 1614,\n",
      "       1831, 5165,  384, 7289, 3648,   29, 9126, 8536,  364, 1000, 4398,\n",
      "       4772, 5967,  692, 1496, 2578, 5144, 4371, 1290, 8174, 8967, 7695,\n",
      "       3792, 6076, 6159, 6122, 8885, 2721,  559, 7936, 6195, 9286, 5589,\n",
      "       2937, 3957, 6847, 2384, 4409, 8292,  551, 9117, 3782, 3760, 7451,\n",
      "       5336, 2626, 5358, 2380,  754], dtype=int32)\n"
     ]
    }
   ],
   "source": [
    "# Public Keys\n",
    "A_list, T_list, q, max_error = lwe_d.get_public_keys()\n",
    "\n",
    "print(\"A_list:\")\n",
    "pprint(A_list)\n",
    "\n",
    "print(\"\\nT_list:\")\n",
    "pprint(T_list)"
   ]
  },
  {
   "cell_type": "code",
   "execution_count": 20,
   "metadata": {},
   "outputs": [
    {
     "name": "stdout",
     "output_type": "stream",
     "text": [
      "A_new:\n",
      "array([[1466, 4072, 6405, ..., 5393, 2052, 5893],\n",
      "       [ 913, 2381, 8700, ..., 7182, 5493, 6532],\n",
      "       [4148, 6122, 6127, ..., 8428, 7996, 5311],\n",
      "       ...,\n",
      "       [8121, 2244, 3143, ..., 6652, 5777, 8197],\n",
      "       [3377, 4934, 3555, ..., 8359, 1010, 2402],\n",
      "       [5967, 8200, 7778, ..., 7368, 4679, 1872]], dtype=int32)\n",
      "\n",
      "T_send:\n",
      "array([3697, 3395, 2021, 6043, 4167, 1611, 3694, 1272, 5485, 4499, 2999,\n",
      "       9317, 5389,  676, 2380,  874, 3487, 9053, 8811, 7241, 1084, 7331,\n",
      "       7695, 2226, 7424, 2694, 5420, 5139, 3562, 2466, 6897, 4828, 3880,\n",
      "       2538, 3329, 3567,  678, 3567,  534, 5546, 1005, 7709,  833, 4730,\n",
      "       5345, 7383, 5775, 7683, 9300,  244, 2075, 5410, 2840, 5295, 6828,\n",
      "       3222, 5075, 1655,   48, 7828,  372, 2852,  611, 8682, 7801, 7693,\n",
      "       4032, 7772,  524,  420, 3512, 1992, 1911,  152, 1102, 3206, 3561,\n",
      "       6105, 4852,  243, 3912,  255, 5597, 2684, 1715, 8816, 7812, 7138,\n",
      "       6650, 3184, 8776, 5664, 7551, 3098, 3968, 5461, 8507, 3914, 8074,\n",
      "       8060, 5816, 7550, 3250, 5308, 7603, 6745, 1974, 8718, 3647, 3224,\n",
      "       1639, 8584, 3252, 4039, 8542, 5040, 5272, 5461, 2081, 3734,   66,\n",
      "       6649, 3386,   65, 9362, 8694, 7147, 4477, 1599, 6328, 8280, 6287,\n",
      "        562, 4869, 1682,  516, 9110, 3129, 1775,  869, 8646, 1989, 4084,\n",
      "        527, 3359, 3029, 2141, 9320, 2733, 1574, 8955, 4352, 4658, 1594,\n",
      "       8358, 4292, 7343, 7146, 5200, 1110, 5063, 6846, 2517, 5990, 2043,\n",
      "       5124, 4232, 9193, 7829, 1186, 7186, 4652, 9060, 9069, 2841, 4253,\n",
      "       8954, 7841, 6895,  552, 3809, 4786, 1527, 3167, 7701, 9362, 2505,\n",
      "       1233, 6677, 4954, 8384,  584, 3840, 3828, 5426, 1119, 1729, 8481,\n",
      "       4303, 7117, 8685, 4913, 6645, 5427, 1966, 5636, 4662, 6370],\n",
      "      dtype=int32)\n"
     ]
    }
   ],
   "source": [
    "# Encrypt Message\n",
    "lwe_e = LWE_Encrypt(A_list, T_list, q, max_error)\n",
    "A_new, T_send = lwe_e.encrypt_message(message_binary)\n",
    "\n",
    "print(\"A_new:\")\n",
    "pprint(np.array(A_new))\n",
    "\n",
    "print(\"\\nT_send:\")\n",
    "pprint(np.array(T_send))"
   ]
  },
  {
   "cell_type": "code",
   "execution_count": 21,
   "metadata": {},
   "outputs": [
    {
     "name": "stdout",
     "output_type": "stream",
     "text": [
      "Decrypted Message: [0, 1, 0, 0, 1, 1, 0, 1, 0, 1, 1, 1, 1, 0, 0, 1, 0, 0, 1, 0, 0, 0, 0, 0, 0, 1, 1, 1, 0, 1, 0, 1, 0, 1, 1, 1, 0, 0, 1, 1, 0, 1, 1, 0, 0, 1, 0, 1, 0, 1, 1, 1, 0, 0, 1, 0, 0, 1, 1, 0, 1, 1, 1, 0, 0, 1, 1, 0, 0, 0, 0, 1, 0, 1, 1, 0, 1, 1, 0, 1, 0, 1, 1, 0, 0, 1, 0, 1, 0, 0, 1, 0, 0, 0, 0, 0, 0, 1, 1, 0, 1, 0, 0, 1, 0, 1, 1, 1, 0, 0, 1, 1, 0, 0, 1, 0, 0, 0, 0, 0, 0, 1, 0, 1, 0, 0, 1, 0, 0, 1, 1, 0, 0, 0, 0, 1, 0, 1, 1, 0, 1, 0, 0, 0, 0, 1, 1, 1, 0, 1, 0, 1, 0, 1, 1, 0, 1, 1, 0, 0, 0, 1, 0, 0, 0, 1, 1, 1, 0, 0, 1, 1, 0, 0, 0, 1, 0, 0, 1, 1, 0, 0, 1, 1, 0, 0, 1, 1, 0, 0, 0, 0, 0, 0, 1, 1, 1, 0, 0, 1, 0, 0, 1, 0, 1, 1, 1, 0]\n",
      "\n",
      "Decoded: My username is RahulG1309.\n"
     ]
    }
   ],
   "source": [
    "# Decrypt Message\n",
    "decrypted_messge_binary = lwe_d.decrypt_message(A_new, T_send)\n",
    "decrypted_messge_ascii = binary_list_to_ascii(decrypted_messge_binary)\n",
    "print(f\"Decrypted Message: {decrypted_messge_binary}\")\n",
    "print(f\"\\nDecoded: {decrypted_messge_ascii}\")"
   ]
  },
  {
   "cell_type": "markdown",
   "metadata": {},
   "source": [
    "### 2. Arora-Ge Algebraic Attack\n",
    "\n",
    "As part of LWE, the errors are drawn from a finite set, a fact which makes\n",
    "it possible to attack LWE and recover the secret without knowing the secret\n",
    "key. Arora and Ge (Princeton) proposed an attack in 2011 that leverages this property using\n",
    "algebraic methods to recover the secret.\n",
    "\n",
    "<b>References,</b>\n",
    "<br> `https://users.cs.duke.edu/~rongge/LPSN.pdf`\n",
    "<br> `https://eprint.iacr.org/2014/1018.pdf`\n",
    "<br> `https://people.csail.mit.edu/vinodv/CS294/lecture2.pdf`\n",
    "\n",
    "If the error distribution is truncated and takes values in the set $\\{-T, ... , -1, 0, 1, ... , T\\} \\implies |E| = 2T + 1$ where, $T = \\text{max\\_error}$\n",
    "\n",
    "We can recover the secret `s` from `A_list` and `b_list` if we have enough LWE samples <A, b>.\n",
    "\n",
    "Precisely we require $m >= {n + |E| \\choose |E|}$ LWE samples to solve the system of polynomials by linearization."
   ]
  },
  {
   "cell_type": "code",
   "execution_count": 1,
   "metadata": {},
   "outputs": [],
   "source": [
    "# Set root directory\n",
    "import os\n",
    "\n",
    "ROOT_DIR = \"D:\\Coding\\CZ4010\\Applied-Cryptography-Project\"\n",
    "os.chdir(ROOT_DIR)"
   ]
  },
  {
   "cell_type": "code",
   "execution_count": 2,
   "metadata": {},
   "outputs": [],
   "source": [
    "import numpy as np\n",
    "from math import comb\n",
    "from pprint import pprint\n",
    "\n",
    "from LWE_PKC import LWE_Encrypt, LWE_Decrypt\n",
    "from utils import ascii_to_binary_list, binary_list_to_ascii\n",
    "\n",
    "from itertools import product\n",
    "from collections import defaultdict\n",
    "from sympy import symbols, Matrix, GF, init_printing\n",
    "from sympy.polys.matrices import DomainMatrix"
   ]
  },
  {
   "cell_type": "code",
   "execution_count": 3,
   "metadata": {},
   "outputs": [],
   "source": [
    "# LWE Parameters\n",
    "n = 10\n",
    "q = 9377\n",
    "max_error = 1\n",
    "\n",
    "m = 300\n",
    "\n",
    "# If we have sufficient samples we can recover the secret.\n",
    "E = 2*max_error + 1\n",
    "m = comb(n+E, E) - 1\n",
    "\n",
    "# Initialize PKC with parameters\n",
    "lwe_d = LWE_Decrypt(n=n, q=q, max_error=max_error, list_size=m)"
   ]
  },
  {
   "cell_type": "code",
   "execution_count": 4,
   "metadata": {},
   "outputs": [
    {
     "name": "stdout",
     "output_type": "stream",
     "text": [
      "Randomly Initalized Secret: [490, 8393, 689, 1211, 1741, 8683, 7163, 808, 3643, 3313]\n"
     ]
    }
   ],
   "source": [
    "# The secret is randomly initalized in the class\n",
    "A_list, b_list, q, max_error = lwe_d.get_public_keys()\n",
    "print(f\"Randomly Initalized Secret: {lwe_d.secret}\")"
   ]
  },
  {
   "cell_type": "code",
   "execution_count": 5,
   "metadata": {},
   "outputs": [
    {
     "name": "stdout",
     "output_type": "stream",
     "text": [
      "Cardinality of error set: 3\n",
      "Number of LWE samples: 285 >= 285\n"
     ]
    }
   ],
   "source": [
    "print(f\"Cardinality of error set: {E}\")\n",
    "print(f\"Number of LWE samples: {len(A_list)} >= {comb(n+E, E)-1}\")"
   ]
  },
  {
   "cell_type": "code",
   "execution_count": 6,
   "metadata": {},
   "outputs": [
    {
     "data": {
      "text/plain": [
       "(x1, x2, x3, x4, x5, x6, x7, x8, x9, x10)"
      ]
     },
     "execution_count": 6,
     "metadata": {},
     "output_type": "execute_result"
    }
   ],
   "source": [
    "# Define the secret vector\n",
    "secret_vector = symbols(f'x1:{n+1}')\n",
    "secret_vector"
   ]
  },
  {
   "cell_type": "code",
   "execution_count": 7,
   "metadata": {},
   "outputs": [],
   "source": [
    "# Construct the polynomials for each LWE instance <A, b>\n",
    "polynomials_over_Zq = []\n",
    "error_set = [i for i in range(-max_error, max_error+1)] \n",
    "\n",
    "for A, b in zip(A_list, b_list):\n",
    "    # Initalize the polynomial term to the identity polynomial of the finite field\n",
    "    polynomial_over_Zq = GF(q)[secret_vector](1)\n",
    "\n",
    "    for e in error_set:\n",
    "        # Multiply each variable by its corresponding weight\n",
    "        weighted_polynomial = sum(w * var for w, var in zip(A, secret_vector))\n",
    "\n",
    "        # Construct the weighted polynomial (this is the AT*s term in the equation)\n",
    "        weighted_secret_polynomial_over_Zq = GF(q)[secret_vector](weighted_polynomial)\n",
    "\n",
    "        # Complete the term (b - AT*s - e)\n",
    "        term = b - weighted_secret_polynomial_over_Zq - e\n",
    "\n",
    "        # Accumulate the product\n",
    "        polynomial_over_Zq = polynomial_over_Zq * term\n",
    "    \n",
    "    polynomials_over_Zq.append(polynomial_over_Zq)\n",
    "\n",
    "# Sanity check\n",
    "assert len(polynomials_over_Zq) == len(A_list)"
   ]
  },
  {
   "cell_type": "markdown",
   "metadata": {},
   "source": [
    "Now that we have the polynomials, let us solve them by linearization."
   ]
  },
  {
   "cell_type": "code",
   "execution_count": 8,
   "metadata": {},
   "outputs": [],
   "source": [
    "def generate_tuples(n, d):\n",
    "    \"\"\"\n",
    "    Helper function that determines all tuples that represent the monomials in the polynomials constructed from an LWE sample.\n",
    "    \"\"\"\n",
    "    # Use itertools.product to generate all tuples\n",
    "    tuples = list(product(range(d + 1), repeat=n))\n",
    "    \n",
    "    # Remove tuples that have a degree > d\n",
    "    tuples_pruned = [x for x in tuples if sum(x) <= d]\n",
    "\n",
    "    return tuples_pruned"
   ]
  },
  {
   "cell_type": "code",
   "execution_count": 9,
   "metadata": {},
   "outputs": [],
   "source": [
    "coefficients_dicts = []\n",
    "tuples = generate_tuples(n, E)\n",
    "\n",
    "for polynomial in polynomials_over_Zq:\n",
    "    coefficients_dict = defaultdict(int, {key: 0 for key in tuples})\n",
    "\n",
    "    for term_key, coeff in polynomial.terms():\n",
    "        coefficients_dict[term_key] = int(coeff) # NOTE: Converting to int!!!\n",
    "\n",
    "    coefficients_dicts.append(coefficients_dict)"
   ]
  },
  {
   "cell_type": "code",
   "execution_count": 10,
   "metadata": {},
   "outputs": [],
   "source": [
    "row_order = []\n",
    "\n",
    "# Let's keep the degree 1 terms up front for convenince\n",
    "for i in range(n):\n",
    "    term = [0]*n\n",
    "    term[i] = 1\n",
    "    row_order.append(tuple(term))\n",
    "\n",
    "# We want the secret at the start and the constant term at the end\n",
    "seen = set(row_order)\n",
    "constant_term_key = tuple([0]*n)\n",
    "candidates = generate_tuples(n, E)\n",
    "\n",
    "for x in candidates:\n",
    "    if x not in seen and x != constant_term_key:\n",
    "        row_order.append(x)\n",
    "\n",
    "# Ensure the constant term is at the end\n",
    "row_order.append(constant_term_key)\n",
    "\n",
    "# Sanity check\n",
    "assert len(row_order) == len(candidates)"
   ]
  },
  {
   "cell_type": "code",
   "execution_count": 11,
   "metadata": {},
   "outputs": [],
   "source": [
    "# Construct the coefficient matrix\n",
    "coefficient_matrix = []\n",
    "rhs = []\n",
    "\n",
    "for coeff_dict in coefficients_dicts:\n",
    "    row = []\n",
    "\n",
    "    for key in row_order[:-1]:\n",
    "        row.append(coeff_dict[key])\n",
    "    \n",
    "    # Append row\n",
    "    coefficient_matrix.append(row)\n",
    "\n",
    "    # Append the rhs\n",
    "    negative_constant_term = -coeff_dict[row_order[-1]]\n",
    "    rhs.append(negative_constant_term)"
   ]
  },
  {
   "cell_type": "markdown",
   "metadata": {},
   "source": [
    "Let us take a look at the matrices before solving them over the Zq domain."
   ]
  },
  {
   "cell_type": "code",
   "execution_count": 12,
   "metadata": {},
   "outputs": [
    {
     "name": "stdout",
     "output_type": "stream",
     "text": [
      "(285, 285)\n",
      "(285, 1)\n"
     ]
    }
   ],
   "source": [
    "# Solving linear system using DomainMatrix\n",
    "m = Matrix(coefficient_matrix)\n",
    "b = Matrix(rhs)\n",
    "\n",
    "# Convert matrices to finite field of order q (q is prime):\n",
    "K = GF(q, symmetric=False)\n",
    "dm = DomainMatrix.from_Matrix(m).convert_to(K)\n",
    "bm = DomainMatrix.from_Matrix(b).convert_to(K)\n",
    "\n",
    "# Print shape of system of equations\n",
    "print(dm.shape)\n",
    "print(bm.shape)\n",
    "\n",
    "# Solve and convert back to an ordinary Matrix:\n",
    "solution_vector = dm.lu_solve(bm).to_Matrix()"
   ]
  },
  {
   "cell_type": "code",
   "execution_count": 13,
   "metadata": {},
   "outputs": [
    {
     "name": "stdout",
     "output_type": "stream",
     "text": [
      "Randomly Initalized Secret:\t\t[490, 8393, 689, 1211, 1741, 8683, 7163, 808, 3643, 3313]\n",
      "Secret obtained from Arora-Ge Attack:\t[490, 8393, 689, 1211, 1741, 8683, 7163, 808, 3643, 3313]\n"
     ]
    }
   ],
   "source": [
    "print(f\"Randomly Initalized Secret:\\t\\t{lwe_d.secret}\")\n",
    "print(f\"Secret obtained from Arora-Ge Attack:\\t{solution_vector[:n]}\")"
   ]
  },
  {
   "cell_type": "code",
   "execution_count": 14,
   "metadata": {},
   "outputs": [
    {
     "name": "stdout",
     "output_type": "stream",
     "text": [
      "Did we correctly determine the secret? \n",
      "True\n"
     ]
    }
   ],
   "source": [
    "print(f\"Did we correctly determine the secret? \\n{lwe_d.secret == solution_vector[:n]}\")"
   ]
  },
  {
   "cell_type": "markdown",
   "metadata": {},
   "source": [
    "Works pretty well for `n <= 12` and `max_error = 1 or 2`. Basically ensure `m <= 1000` else it takes VERY long to run and will most likely go out of memory too.\n"
   ]
  },
  {
   "cell_type": "markdown",
   "metadata": {},
   "source": [
    "### Thank you!\n"
   ]
  }
 ],
 "metadata": {
  "kernelspec": {
   "display_name": "cz4010",
   "language": "python",
   "name": "python3"
  },
  "language_info": {
   "codemirror_mode": {
    "name": "ipython",
    "version": 3
   },
   "file_extension": ".py",
   "mimetype": "text/x-python",
   "name": "python",
   "nbconvert_exporter": "python",
   "pygments_lexer": "ipython3",
   "version": "3.10.13"
  }
 },
 "nbformat": 4,
 "nbformat_minor": 2
}
