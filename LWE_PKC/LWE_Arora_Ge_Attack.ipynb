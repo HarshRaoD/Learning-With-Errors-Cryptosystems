{
 "cells": [
  {
   "cell_type": "code",
   "execution_count": 2,
   "metadata": {},
   "outputs": [],
   "source": [
    "# Set root directory\n",
    "import os\n",
    "\n",
    "ROOT_DIR = \"D:\\Coding\\CZ4010\\Applied-Cryptography-Project\"\n",
    "os.chdir(ROOT_DIR)"
   ]
  },
  {
   "cell_type": "code",
   "execution_count": 4,
   "metadata": {},
   "outputs": [],
   "source": [
    "from utils import ascii_to_binary_list, binary_list_to_ascii\n",
    "from LWE_PKC import LWE_Encrypt, LWE_Decrypt\n",
    "from math import comb"
   ]
  },
  {
   "cell_type": "markdown",
   "metadata": {},
   "source": [
    "### 1. Testing out the Cryptosystem"
   ]
  },
  {
   "cell_type": "code",
   "execution_count": 5,
   "metadata": {},
   "outputs": [],
   "source": [
    "bit_message = [1]"
   ]
  },
  {
   "cell_type": "code",
   "execution_count": 6,
   "metadata": {},
   "outputs": [],
   "source": [
    "# Weak Parameters\n",
    "n = 3\n",
    "q = 17\n",
    "max_error = 1\n",
    "S = 2*max_error + 1   # Cardinality of the error set\n",
    "m = 2*comb(n+S, S)    # The number of eqations must be >> (n+S)C(s)"
   ]
  },
  {
   "cell_type": "code",
   "execution_count": 7,
   "metadata": {},
   "outputs": [
    {
     "name": "stdout",
     "output_type": "stream",
     "text": [
      "Randomly Initalized Secret: [9, 2, 2]\n"
     ]
    }
   ],
   "source": [
    "# Initialize PKC with parameters\n",
    "lwe_d = LWE_Decrypt(n=n, q=q, max_error=max_error, list_size=m)\n",
    "\n",
    "# Get public keys\n",
    "A_list, T_list, q, max_error = lwe_d.get_public_keys()\n",
    "# print(A_list)\n",
    "# print(T_list)\n",
    "print(f\"Randomly Initalized Secret: {lwe_d.secret}\")"
   ]
  },
  {
   "cell_type": "code",
   "execution_count": 8,
   "metadata": {},
   "outputs": [
    {
     "name": "stdout",
     "output_type": "stream",
     "text": [
      "A_new = [array([11, 15, 11], dtype=int32)]\n",
      "T_send = [8]\n"
     ]
    }
   ],
   "source": [
    "# Encrypt Message\n",
    "lwe_e = LWE_Encrypt(A_list, T_list, q, max_error)\n",
    "A_new, T_send = lwe_e.encrypt_message(bit_message)\n",
    "print(f\"A_new = {A_new}\\nT_send = {T_send}\")"
   ]
  },
  {
   "cell_type": "code",
   "execution_count": 9,
   "metadata": {},
   "outputs": [
    {
     "name": "stdout",
     "output_type": "stream",
     "text": [
      "Decrypted Message = [1]\n"
     ]
    }
   ],
   "source": [
    "# Decrypt Message\n",
    "decrypted_binary_message = lwe_d.decrypt_message(A_new, T_send)\n",
    "decrypted_message = binary_list_to_ascii(decrypted_binary_message)\n",
    "print(f\"Decrypted Message = {decrypted_binary_message}\")"
   ]
  },
  {
   "cell_type": "markdown",
   "metadata": {},
   "source": [
    "### Arora-Ge Attack\n",
    "\n",
    "A brute force attack when the max_error parameter is small."
   ]
  },
  {
   "cell_type": "code",
   "execution_count": 833,
   "metadata": {},
   "outputs": [],
   "source": [
    "# Weak Parameters\n",
    "n = 2\n",
    "q = 11\n",
    "max_error = 1\n",
    "E = 2*max_error + 1   # Cardinality of the error set\n",
    "# m = int(2 * comb(n+E, E))    # The number of eqations must be >> (n+S)C(s)\n",
    "m = int(2 * n ** (E))"
   ]
  },
  {
   "cell_type": "code",
   "execution_count": 834,
   "metadata": {},
   "outputs": [
    {
     "name": "stdout",
     "output_type": "stream",
     "text": [
      "Randomly Initalized Secret: [0, 6]\n"
     ]
    }
   ],
   "source": [
    "# Initialize PKC with parameters\n",
    "lwe_d = LWE_Decrypt(n=n, q=q, max_error=max_error, list_size=m)\n",
    "\n",
    "# The secret is randomly initalized in the class\n",
    "A_list, b_list, q, max_error = lwe_d.get_public_keys()\n",
    "print(f\"Randomly Initalized Secret: {lwe_d.secret}\")"
   ]
  },
  {
   "cell_type": "markdown",
   "metadata": {},
   "source": [
    "We are going to recover the secret `s` from `A_list` and `b_list` given the following weak parameters,\n",
    "\n",
    "1. The error is truncated and takes values in the set $\\{-1, 0, 1\\} \\implies |E| = 3$ \n",
    "<br>\n",
    "<br>\n",
    "2. The number of equations in `A_list`, $m >> {n + |E| \\choose |E|}$"
   ]
  },
  {
   "cell_type": "code",
   "execution_count": 835,
   "metadata": {},
   "outputs": [
    {
     "name": "stdout",
     "output_type": "stream",
     "text": [
      "Cardinality of error set: 3\n",
      "Number of equations: 16 >> 10\n"
     ]
    }
   ],
   "source": [
    "print(f\"Cardinality of error set: {E}\")\n",
    "print(f\"Number of equations: {len(A_list)} >> {comb(n+E, E)}\")"
   ]
  },
  {
   "cell_type": "code",
   "execution_count": 836,
   "metadata": {},
   "outputs": [],
   "source": [
    "from itertools import product\n",
    "from collections import defaultdict\n",
    "from sympy import symbols, Eq, Mod, Poly, Matrix, GF\n",
    "from sympy.polys.matrices import DomainMatrix"
   ]
  },
  {
   "cell_type": "code",
   "execution_count": 837,
   "metadata": {},
   "outputs": [
    {
     "data": {
      "text/plain": [
       "(x1, x2)"
      ]
     },
     "execution_count": 837,
     "metadata": {},
     "output_type": "execute_result"
    }
   ],
   "source": [
    "# Define the secret vector\n",
    "secret_vector = symbols(f'x1:{n+1}')\n",
    "secret_vector"
   ]
  },
  {
   "cell_type": "code",
   "execution_count": 838,
   "metadata": {},
   "outputs": [
    {
     "name": "stdout",
     "output_type": "stream",
     "text": [
      "16\n"
     ]
    }
   ],
   "source": [
    "polynomials_over_Zq = []\n",
    "error_set = [i for i in range(-max_error, max_error+1)] \n",
    "\n",
    "# Begin constructing the polynomials for each LWE instance <A, b>\n",
    "for A, b in zip(A_list, b_list):\n",
    "    # Initalize the polynomial term to the identity polynomial of the finite field\n",
    "    polynomial_over_Zq = GF(q)[secret_vector](1)\n",
    "\n",
    "    for e in error_set:\n",
    "        # Multiply each variable by its corresponding weight\n",
    "        weighted_polynomial = sum(w * var for w, var in zip(A, secret_vector))\n",
    "        # print(weighted_polynomial)\n",
    "\n",
    "        # Construct the weighted polynomial (this is the AT*s term in the equation)\n",
    "        weighted_secret_polynomial_over_Zq = GF(q)[secret_vector](weighted_polynomial)\n",
    "        # print(weighted_secret_polynomial_over_Zq)\n",
    "\n",
    "        # Complete the term (b - AT*s - e)\n",
    "        term = b - weighted_secret_polynomial_over_Zq - e\n",
    "        # print(term)\n",
    "\n",
    "        # Accumulate the product of each term over Zq\n",
    "        polynomial_over_Zq = polynomial_over_Zq * term\n",
    "        # print(polynomial_over_Zq)\n",
    "\n",
    "    #print(polynomial_over_Zq)\n",
    "    polynomials_over_Zq.append(polynomial_over_Zq)\n",
    "\n",
    "print(len(polynomials_over_Zq))"
   ]
  },
  {
   "cell_type": "code",
   "execution_count": 839,
   "metadata": {},
   "outputs": [
    {
     "name": "stdout",
     "output_type": "stream",
     "text": [
      "x1**3 + 5 mod 11*x1**2*x2 + 3 mod 11*x1**2 + x1*x2**2 + 10 mod 11*x1*x2 + 2 mod 11*x1 + 3 mod 11*x2**3 + x2**2 + 7 mod 11*x2\n"
     ]
    }
   ],
   "source": [
    "print(polynomials_over_Zq[0])"
   ]
  },
  {
   "cell_type": "code",
   "execution_count": 840,
   "metadata": {},
   "outputs": [
    {
     "data": {
      "text/plain": [
       "[((3, 0), SymmetricModularIntegerMod11(7)), ((2, 1), SymmetricModularIntegerMod11(2)), ((2, 0), SymmetricModularIntegerMod11(1)), ((1, 2), SymmetricModularIntegerMod11(7)), ((1, 1), SymmetricModularIntegerMod11(7)), ((1, 0), SymmetricModularIntegerMod11(4)), ((0, 3), SymmetricModularIntegerMod11(10)), ((0, 2), SymmetricModularIntegerMod11(4)), ((0, 1), SymmetricModularIntegerMod11(3)), ((0, 0), SymmetricModularIntegerMod11(10))]"
      ]
     },
     "execution_count": 840,
     "metadata": {},
     "output_type": "execute_result"
    }
   ],
   "source": [
    "polynomials_over_Zq[1].terms()"
   ]
  },
  {
   "cell_type": "code",
   "execution_count": 841,
   "metadata": {},
   "outputs": [],
   "source": [
    "def generate_tuples(n, S):\n",
    "    # Use itertools.product to generate all tuples\n",
    "    tuples = list(product(range(S + 1), repeat=n))\n",
    "    return tuples\n",
    "\n",
    "tuples = generate_tuples(n, S)"
   ]
  },
  {
   "cell_type": "code",
   "execution_count": 842,
   "metadata": {},
   "outputs": [],
   "source": [
    "coefficients_dicts = []\n",
    "\n",
    "for polynomial in polynomials_over_Zq:\n",
    "    coefficients_dict = defaultdict(int, {key: 0 for key in tuples})\n",
    "\n",
    "    for term_key, coeff in polynomial.terms():\n",
    "        coefficients_dict[term_key] = int(coeff) # NOTE: Converting to negative int!!!\n",
    "\n",
    "    coefficients_dicts.append(coefficients_dict)"
   ]
  },
  {
   "cell_type": "code",
   "execution_count": 843,
   "metadata": {},
   "outputs": [
    {
     "data": {
      "text/plain": [
       "defaultdict(<class 'int'>, {(0, 0): 0, (0, 1): -4, (0, 2): 1, (0, 3): 3, (1, 0): 2, (1, 1): -1, (1, 2): 1, (1, 3): 0, (2, 0): 3, (2, 1): 5, (2, 2): 0, (2, 3): 0, (3, 0): 1, (3, 1): 0, (3, 2): 0, (3, 3): 0})"
      ]
     },
     "execution_count": 843,
     "metadata": {},
     "output_type": "execute_result"
    }
   ],
   "source": [
    "coefficients_dicts[0]"
   ]
  },
  {
   "cell_type": "code",
   "execution_count": 844,
   "metadata": {},
   "outputs": [],
   "source": [
    "row_order = []\n",
    "\n",
    "# Let's keep the degree 1 terms up front for convenince\n",
    "for i in range(n):\n",
    "    term = [0]*n\n",
    "    term[i] = 1\n",
    "    row_order.append(tuple(term))\n",
    "\n",
    "constant_term_key = tuple([0]*n)\n",
    "seen = set(row_order)\n",
    "candidates = generate_tuples(n, S)\n",
    "\n",
    "for x in candidates:\n",
    "    if x not in seen and x != constant_term_key:\n",
    "        row_order.append(x)\n",
    "\n",
    "row_order.append(constant_term_key)\n",
    "\n",
    "# Sanoty check\n",
    "assert len(row_order) == len(generate_tuples(n, S))"
   ]
  },
  {
   "cell_type": "code",
   "execution_count": 845,
   "metadata": {},
   "outputs": [],
   "source": [
    "coefficient_matrix = []\n",
    "rhs = []\n",
    "\n",
    "for coeff_dict in coefficients_dicts:\n",
    "    row = []\n",
    "\n",
    "    for key in row_order[:-1]:\n",
    "        row.append(coeff_dict[key])\n",
    "    \n",
    "    # Append row\n",
    "    coefficient_matrix.append(row)\n",
    "\n",
    "    # Append the rhs\n",
    "    negative_constant_term = -coeff_dict[row_order[-1]]\n",
    "    rhs.append(negative_constant_term)"
   ]
  },
  {
   "cell_type": "code",
   "execution_count": 846,
   "metadata": {},
   "outputs": [
    {
     "name": "stdout",
     "output_type": "stream",
     "text": [
      "(16, 15)\n",
      "(16, 1)\n"
     ]
    },
    {
     "ename": "DMNonInvertibleMatrixError",
     "evalue": "",
     "output_type": "error",
     "traceback": [
      "\u001b[1;31m---------------------------------------------------------------------------\u001b[0m",
      "\u001b[1;31mDMNonInvertibleMatrixError\u001b[0m                Traceback (most recent call last)",
      "\u001b[1;32md:\\Coding\\CZ4010\\Applied-Cryptography-Project\\LWE_PKC\\LWE_Arora_Ge_Attack.ipynb Cell 24\u001b[0m line \u001b[0;36m1\n\u001b[0;32m     <a href='vscode-notebook-cell:/d%3A/Coding/CZ4010/Applied-Cryptography-Project/LWE_PKC/LWE_Arora_Ge_Attack.ipynb#Y120sZmlsZQ%3D%3D?line=11'>12</a>\u001b[0m \u001b[39mprint\u001b[39m(b\u001b[39m.\u001b[39mshape)\n\u001b[0;32m     <a href='vscode-notebook-cell:/d%3A/Coding/CZ4010/Applied-Cryptography-Project/LWE_PKC/LWE_Arora_Ge_Attack.ipynb#Y120sZmlsZQ%3D%3D?line=13'>14</a>\u001b[0m \u001b[39m# Solve and convert back to an ordinary Matrix:\u001b[39;00m\n\u001b[1;32m---> <a href='vscode-notebook-cell:/d%3A/Coding/CZ4010/Applied-Cryptography-Project/LWE_PKC/LWE_Arora_Ge_Attack.ipynb#Y120sZmlsZQ%3D%3D?line=14'>15</a>\u001b[0m solution_vector \u001b[39m=\u001b[39m dm\u001b[39m.\u001b[39;49mlu_solve(bm)\u001b[39m.\u001b[39mto_Matrix()\n\u001b[0;32m     <a href='vscode-notebook-cell:/d%3A/Coding/CZ4010/Applied-Cryptography-Project/LWE_PKC/LWE_Arora_Ge_Attack.ipynb#Y120sZmlsZQ%3D%3D?line=15'>16</a>\u001b[0m \u001b[39mprint\u001b[39m(solution_vector)\n",
      "File \u001b[1;32mc:\\Users\\rahul\\miniconda3\\envs\\cz4010\\lib\\site-packages\\sympy\\polys\\matrices\\domainmatrix.py:1525\u001b[0m, in \u001b[0;36mDomainMatrix.lu_solve\u001b[1;34m(self, rhs)\u001b[0m\n\u001b[0;32m   1523\u001b[0m \u001b[39mif\u001b[39;00m \u001b[39mnot\u001b[39;00m \u001b[39mself\u001b[39m\u001b[39m.\u001b[39mdomain\u001b[39m.\u001b[39mis_Field:\n\u001b[0;32m   1524\u001b[0m     \u001b[39mraise\u001b[39;00m DMNotAField(\u001b[39m'\u001b[39m\u001b[39mNot a field\u001b[39m\u001b[39m'\u001b[39m)\n\u001b[1;32m-> 1525\u001b[0m sol \u001b[39m=\u001b[39m \u001b[39mself\u001b[39;49m\u001b[39m.\u001b[39;49mrep\u001b[39m.\u001b[39;49mlu_solve(rhs\u001b[39m.\u001b[39;49mrep)\n\u001b[0;32m   1526\u001b[0m \u001b[39mreturn\u001b[39;00m \u001b[39mself\u001b[39m\u001b[39m.\u001b[39mfrom_rep(sol)\n",
      "File \u001b[1;32mc:\\Users\\rahul\\miniconda3\\envs\\cz4010\\lib\\site-packages\\sympy\\polys\\matrices\\sdm.py:701\u001b[0m, in \u001b[0;36mSDM.lu_solve\u001b[1;34m(A, b)\u001b[0m\n\u001b[0;32m    685\u001b[0m \u001b[39mdef\u001b[39;00m \u001b[39mlu_solve\u001b[39m(A, b):\n\u001b[0;32m    686\u001b[0m \u001b[39m    \u001b[39m\u001b[39m\"\"\"\u001b[39;00m\n\u001b[0;32m    687\u001b[0m \n\u001b[0;32m    688\u001b[0m \u001b[39m    Uses LU decomposition to solve Ax = b,\u001b[39;00m\n\u001b[1;32m   (...)\u001b[0m\n\u001b[0;32m    699\u001b[0m \n\u001b[0;32m    700\u001b[0m \u001b[39m    \"\"\"\u001b[39;00m\n\u001b[1;32m--> 701\u001b[0m     \u001b[39mreturn\u001b[39;00m A\u001b[39m.\u001b[39mfrom_ddm(A\u001b[39m.\u001b[39;49mto_ddm()\u001b[39m.\u001b[39;49mlu_solve(b\u001b[39m.\u001b[39;49mto_ddm()))\n",
      "File \u001b[1;32mc:\\Users\\rahul\\miniconda3\\envs\\cz4010\\lib\\site-packages\\sympy\\polys\\matrices\\ddm.py:450\u001b[0m, in \u001b[0;36mDDM.lu_solve\u001b[1;34m(a, b)\u001b[0m\n\u001b[0;32m    448\u001b[0m L, U, swaps \u001b[39m=\u001b[39m a\u001b[39m.\u001b[39mlu()\n\u001b[0;32m    449\u001b[0m x \u001b[39m=\u001b[39m a\u001b[39m.\u001b[39mzeros((n, o), a\u001b[39m.\u001b[39mdomain)\n\u001b[1;32m--> 450\u001b[0m ddm_ilu_solve(x, L, U, swaps, b)\n\u001b[0;32m    451\u001b[0m \u001b[39mreturn\u001b[39;00m x\n",
      "File \u001b[1;32mc:\\Users\\rahul\\miniconda3\\envs\\cz4010\\lib\\site-packages\\sympy\\polys\\matrices\\dense.py:297\u001b[0m, in \u001b[0;36mddm_ilu_solve\u001b[1;34m(x, L, U, swaps, b)\u001b[0m\n\u001b[0;32m    295\u001b[0m \u001b[39mfor\u001b[39;00m i \u001b[39min\u001b[39;00m \u001b[39mreversed\u001b[39m(\u001b[39mrange\u001b[39m(n)):\n\u001b[0;32m    296\u001b[0m     \u001b[39mif\u001b[39;00m \u001b[39mnot\u001b[39;00m U[i][i]:\n\u001b[1;32m--> 297\u001b[0m         \u001b[39mraise\u001b[39;00m DMNonInvertibleMatrixError\n\u001b[0;32m    298\u001b[0m     rhs \u001b[39m=\u001b[39m y[i][k]\n\u001b[0;32m    299\u001b[0m     \u001b[39mfor\u001b[39;00m j \u001b[39min\u001b[39;00m \u001b[39mrange\u001b[39m(i\u001b[39m+\u001b[39m\u001b[39m1\u001b[39m, n):\n",
      "\u001b[1;31mDMNonInvertibleMatrixError\u001b[0m: "
     ]
    }
   ],
   "source": [
    "# Solving linear system using DomainMatrix\n",
    "m = Matrix(coefficient_matrix)\n",
    "b = Matrix(rhs)\n",
    "\n",
    "# Convert matrices to finite field of order q (q is prime):\n",
    "K = GF(q, symmetric=False)\n",
    "dm = DomainMatrix.from_Matrix(m).convert_to(K)\n",
    "bm = DomainMatrix.from_Matrix(b).convert_to(K)\n",
    "\n",
    "# Print shape of system of equations\n",
    "print(m.shape)\n",
    "print(b.shape)\n",
    "\n",
    "# Solve and convert back to an ordinary Matrix:\n",
    "solution_vector = dm.lu_solve(bm).to_Matrix()\n",
    "print(solution_vector)"
   ]
  },
  {
   "cell_type": "code",
   "execution_count": 847,
   "metadata": {},
   "outputs": [
    {
     "name": "stdout",
     "output_type": "stream",
     "text": [
      "Randomly Initalized Secret: \t\t\t[0, 6]\n",
      "Secret obtained from Arora-Ge Attack: \t(x1, x2) = [5, 3]\n"
     ]
    }
   ],
   "source": [
    "print(f\"Randomly Initalized Secret: \\t\\t\\t{lwe_d.secret}\")\n",
    "print(f\"Secret obtained from Arora-Ge Attack: \\t{secret_vector} = {solution_vector[:n]}\")"
   ]
  },
  {
   "cell_type": "code",
   "execution_count": null,
   "metadata": {},
   "outputs": [],
   "source": [
    "# import numpy as np\n",
    "\n",
    "# Ax = np.array(coefficient_matrix)\n",
    "# d = np.array(rhs)\n",
    "\n",
    "# # Print shape of system of equations\n",
    "# print(Ax.shape)\n",
    "# print(d.shape)\n",
    "\n",
    "# # Get the dimensions of the original matrix\n",
    "# num_rows, num_cols = Ax.shape\n",
    "\n",
    "# # Determine the size of padding needed\n",
    "# padding_size = max(0, num_rows - num_cols)\n",
    "\n",
    "# # Pad the matrix with zeros to make it square\n",
    "# padded_matrix = np.pad(Ax, ((0, 0), (0, padding_size)), mode='constant')\n",
    "\n",
    "# # Print shape of the padded matrix\n",
    "# print(\"Padded Matrix Shape:\", padded_matrix.shape)\n",
    "\n",
    "# try:\n",
    "#     solution_base_10 = np.linalg.solve(padded_matrix, d)\n",
    "# except:\n",
    "#     solution_base_10 = np.linalg.lstsq(padded_matrix, d)\n",
    "\n",
    "# print(solution_base_10)"
   ]
  }
 ],
 "metadata": {
  "kernelspec": {
   "display_name": "cz4010",
   "language": "python",
   "name": "python3"
  },
  "language_info": {
   "codemirror_mode": {
    "name": "ipython",
    "version": 3
   },
   "file_extension": ".py",
   "mimetype": "text/x-python",
   "name": "python",
   "nbconvert_exporter": "python",
   "pygments_lexer": "ipython3",
   "version": "3.10.13"
  }
 },
 "nbformat": 4,
 "nbformat_minor": 2
}
