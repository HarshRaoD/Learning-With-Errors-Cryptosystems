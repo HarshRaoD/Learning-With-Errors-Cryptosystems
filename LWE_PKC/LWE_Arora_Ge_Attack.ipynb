{
 "cells": [
  {
   "cell_type": "markdown",
   "metadata": {},
   "source": [
    "## Arora-Ge Attack on LWE Demonstration"
   ]
  },
  {
   "cell_type": "markdown",
   "metadata": {},
   "source": [
    "### 0. Dependencies and Directories"
   ]
  },
  {
   "cell_type": "code",
   "execution_count": 1,
   "metadata": {},
   "outputs": [],
   "source": [
    "# Set root directory\n",
    "import os\n",
    "\n",
    "ROOT_DIR = \"D:\\Coding\\CZ4010\\Applied-Cryptography-Project\"\n",
    "os.chdir(ROOT_DIR)"
   ]
  },
  {
   "cell_type": "code",
   "execution_count": 2,
   "metadata": {},
   "outputs": [],
   "source": [
    "import numpy as np\n",
    "from math import comb\n",
    "from pprint import pprint\n",
    "\n",
    "from LWE_PKC import LWE_Encrypt, LWE_Decrypt\n",
    "from utils import ascii_to_binary_list, binary_list_to_ascii"
   ]
  },
  {
   "cell_type": "markdown",
   "metadata": {},
   "source": [
    "### 1. Testing out the Cryptosystem\n",
    "\n",
    "We will encrypt a binary encoded message."
   ]
  },
  {
   "cell_type": "code",
   "execution_count": 3,
   "metadata": {},
   "outputs": [
    {
     "name": "stdout",
     "output_type": "stream",
     "text": [
      "Message: My username is RahulG1309.\n",
      "\n",
      "Encoded: [0, 1, 0, 0, 1, 1, 0, 1, 0, 1, 1, 1, 1, 0, 0, 1, 0, 0, 1, 0, 0, 0, 0, 0, 0, 1, 1, 1, 0, 1, 0, 1, 0, 1, 1, 1, 0, 0, 1, 1, 0, 1, 1, 0, 0, 1, 0, 1, 0, 1, 1, 1, 0, 0, 1, 0, 0, 1, 1, 0, 1, 1, 1, 0, 0, 1, 1, 0, 0, 0, 0, 1, 0, 1, 1, 0, 1, 1, 0, 1, 0, 1, 1, 0, 0, 1, 0, 1, 0, 0, 1, 0, 0, 0, 0, 0, 0, 1, 1, 0, 1, 0, 0, 1, 0, 1, 1, 1, 0, 0, 1, 1, 0, 0, 1, 0, 0, 0, 0, 0, 0, 1, 0, 1, 0, 0, 1, 0, 0, 1, 1, 0, 0, 0, 0, 1, 0, 1, 1, 0, 1, 0, 0, 0, 0, 1, 1, 1, 0, 1, 0, 1, 0, 1, 1, 0, 1, 1, 0, 0, 0, 1, 0, 0, 0, 1, 1, 1, 0, 0, 1, 1, 0, 0, 0, 1, 0, 0, 1, 1, 0, 0, 1, 1, 0, 0, 1, 1, 0, 0, 0, 0, 0, 0, 1, 1, 1, 0, 0, 1, 0, 0, 1, 0, 1, 1, 1, 0]\n"
     ]
    }
   ],
   "source": [
    "# Encode message with binary bits\n",
    "message_ascii = \"My username is RahulG1309.\"\n",
    "message_binary = ascii_to_binary_list(message_ascii)\n",
    "\n",
    "print(f\"Message: {message_ascii}\")\n",
    "print(f\"\\nEncoded: {message_binary}\")"
   ]
  },
  {
   "cell_type": "code",
   "execution_count": 4,
   "metadata": {},
   "outputs": [],
   "source": [
    "# LWE Parameters\n",
    "n = 10\n",
    "q = 9377\n",
    "max_error = 1\n",
    "\n",
    "# If we have sufficient samples we can recover the secret.\n",
    "m = 500\n",
    "\n",
    "# Initialize PKC with parameters\n",
    "lwe_d = LWE_Decrypt(n=n, q=q, max_error=max_error, list_size=m)"
   ]
  },
  {
   "cell_type": "code",
   "execution_count": 5,
   "metadata": {},
   "outputs": [
    {
     "name": "stdout",
     "output_type": "stream",
     "text": [
      "A_list:\n",
      "array([[4851, 5436, 6800, ..., 6227,  547, 4864],\n",
      "       [3637, 6079, 7541, ..., 6107, 3884,  770],\n",
      "       [7749, 1269, 4726, ..., 6340, 5638, 8528],\n",
      "       ...,\n",
      "       [7256, 6210,  966, ..., 4150,  267, 5202],\n",
      "       [8771,  641, 4783, ..., 4444, 8705, 7559],\n",
      "       [3342, 5475, 5505, ..., 2377, 6434,  704]])\n",
      "\n",
      "T_list:\n",
      "array([5690, 3734, 3005,  651, 9303, 5730, 8784, 8821,  317, 2599, 3306,\n",
      "       3886, 1157, 9359, 1635,  352, 6256, 6453, 8987, 2623, 7849, 4900,\n",
      "       6185, 1276, 8884, 5059, 7609, 1385, 8801, 5883, 6269, 5913, 4274,\n",
      "       1394, 2109, 2778, 1091, 5800, 2150, 7542, 5241, 2963, 3075,  648,\n",
      "       5129, 2102, 3833, 5244, 5102, 8066, 5348, 7680, 7500, 5247,  715,\n",
      "       5845, 1700,  238, 4379, 7622, 4638, 4251, 6747, 2398, 3038, 2619,\n",
      "       2472, 7474, 4576, 1042, 6383, 7810, 8450, 1422, 5859, 7361, 2781,\n",
      "       7374,  964,  370, 5309,   95, 5884, 6449, 8396, 6833, 6559, 1890,\n",
      "       6621, 7731, 1078, 8613, 1003, 6533, 5028, 3603, 5930, 8903, 7841,\n",
      "       8760, 4679, 6404, 1670, 3797, 3972, 6247, 8140, 4363, 6226, 8538,\n",
      "       7141, 1728,  863,   91,  932, 8977, 8503, 4768, 9126, 5946,  232,\n",
      "       4353, 3007, 7077, 6485, 2081, 3311, 6973, 7168, 3052,  280, 7702,\n",
      "        467, 6536, 8718, 5410, 9190, 4914, 7589, 7282, 6194, 8390, 6629,\n",
      "       8603, 2011, 9244, 7049, 2208, 5857, 7283, 5873, 4599,  241,  537,\n",
      "       4706, 2879, 4150, 5469, 1652, 6938, 1642, 1585, 4659, 7038, 5748,\n",
      "       4633, 8741, 5168, 5550, 4723, 1176, 2646, 4287, 3904, 1991,  826,\n",
      "       5270,   86, 8461, 3486, 5300, 8707, 6002,  819, 7980, 7994,  866,\n",
      "        183, 4363, 6712, 1368, 8493, 4275, 6932, 2734, 5311, 7111, 3634,\n",
      "       3990, 3120, 1497, 8988, 2460, 8494, 1832, 5282, 4118, 1056, 2665,\n",
      "       7434,  283, 6943, 6873, 2741, 6036, 2244, 5295, 3446,  734,  328,\n",
      "       6514, 6699, 5238,  911, 2967, 5649, 5668, 6608, 6003, 3942, 3143,\n",
      "       5517, 6908, 5320,  343, 4879, 2397, 5417, 2156, 8591, 1754, 5233,\n",
      "       1277, 3780, 1161, 7749, 1612, 7005, 2112, 4619,  570, 8315, 4227,\n",
      "       1221, 7656, 5218, 4373, 7579, 5741, 5221, 5988, 8635, 2371, 2831,\n",
      "       4521,  514, 6718, 5085, 4293, 5574, 8978, 4050, 4398, 4804, 8951,\n",
      "       5470, 3139, 9341, 5237, 2629, 6336, 5982, 5296, 5535, 7753, 5344,\n",
      "       7971, 7242, 9125, 6815, 8994, 1622, 1514, 3714, 8101, 6712, 6990,\n",
      "       3290, 7338, 2213, 7217, 7062, 1902, 5564,  505, 2274, 5602, 9179,\n",
      "       6137, 4832, 3887, 8453, 3155, 1324, 6838, 3765, 1462, 3027, 3007,\n",
      "       8174, 8551, 4667, 6116, 1101, 2180, 5510,  782, 8775, 4321, 4601,\n",
      "       5857, 7144, 1885, 3998, 4294, 4875, 4432, 8177,  105,   79, 7295,\n",
      "       7980, 5485,  165, 1704, 2415, 2944, 2090, 6132, 6538, 4292, 4648,\n",
      "       9114, 7943,  443, 5333, 4253, 8333, 1878, 7445, 1508, 7591, 4664,\n",
      "       3473, 1714,  388, 6717, 4590,   89, 3098, 6730, 2957, 2974, 7338,\n",
      "       4065,  349, 1760, 9276, 4752, 4707, 7192, 5288,  906, 2824, 3033,\n",
      "        743, 5570,  542, 4168, 2199, 4553, 6513, 7226, 1771, 4084,   89,\n",
      "       1072, 1777,  705, 2072, 7578, 8079, 4035, 3825, 7840,  743, 7308,\n",
      "       3438, 1311, 6423, 5944, 8391, 8791,  154, 5754, 9209, 3368, 7460,\n",
      "       8447, 1564, 3516, 4812, 3714, 5005, 9015, 4495, 4054, 6741, 1491,\n",
      "       5145, 5169, 8369, 5075, 4744, 6947, 2691, 8752, 3476, 3447, 1057,\n",
      "       8298, 6786, 5055, 4940, 4825, 8881, 7898, 5414,  775,  973, 4877,\n",
      "       5213,  644, 4785, 4250,  565, 4756, 8854, 5706, 3617, 1352, 8018,\n",
      "       1662, 5594, 3934, 1852, 8406, 8397, 2952,  507, 1244, 1623, 7824,\n",
      "       3307, 7259,  713, 7786, 8723, 8615,  999, 1072,  695, 6351, 5931,\n",
      "       4685, 1011, 5382, 5396, 4575, 4457, 4767, 4945, 4851, 6522, 6985,\n",
      "       1043, 7330,  358,   35, 3208], dtype=int32)\n"
     ]
    }
   ],
   "source": [
    "# Public Keys\n",
    "A_list, T_list, q, max_error = lwe_d.get_public_keys()\n",
    "\n",
    "print(\"A_list:\")\n",
    "pprint(A_list)\n",
    "\n",
    "print(\"\\nT_list:\")\n",
    "pprint(T_list)"
   ]
  },
  {
   "cell_type": "code",
   "execution_count": 6,
   "metadata": {},
   "outputs": [
    {
     "name": "stdout",
     "output_type": "stream",
     "text": [
      "A_new:\n",
      "array([[8367, 1574, 8373, ..., 8160,   84, 3435],\n",
      "       [1558, 6009, 3294, ..., 5937, 2112,  757],\n",
      "       [6970, 3781, 4980, ..., 3266, 5011, 6740],\n",
      "       ...,\n",
      "       [8877, 1123, 3488, ..., 4636, 6551, 7614],\n",
      "       [1394, 2081, 8765, ..., 3795, 7052, 3311],\n",
      "       [9243, 4173, 7464, ..., 3258,  711, 3614]], dtype=int32)\n",
      "\n",
      "T_send:\n",
      "array([2998,  856, 4387, 5015, 4792, 6703, 7568, 1334, 1786, 1798,  778,\n",
      "       7135, 4815, 1129, 3605, 9127, 6315, 8419, 5878, 5632, 5517, 7349,\n",
      "       4957, 2028, 2842,  398, 1608, 5084, 6249, 7482,  577, 3736,  650,\n",
      "       5844,  945, 6179, 8995, 4604, 7603, 3004, 4107, 7808, 1994, 8909,\n",
      "        987, 2117, 4569, 9240, 4016, 6514, 5744, 5025, 5343, 9256, 2330,\n",
      "       4650, 7426,  311, 8149, 7612, 7578, 3253, 1899, 5902,  494, 2595,\n",
      "       7222, 2593, 1679, 7011, 6440, 8743, 6781,  712, 7805, 7441, 8411,\n",
      "       6002, 5752, 5046, 7225, 4484, 7131,  970, 3495,  865, 7924, 7845,\n",
      "       7883, 5082, 5495, 2490, 8468, 8933, 7706, 5482,   98,  522,  191,\n",
      "       1493, 5961, 4709, 6179, 5180,  693, 2976,  909, 2179, 7987, 8057,\n",
      "       5429, 4137, 7780, 6327, 8325, 8182, 8145, 1470, 4729, 4991, 8783,\n",
      "        555, 1115,  639, 7642,  653, 9101, 2565, 1358, 6447, 2720, 1551,\n",
      "       2601,  947, 6835, 4456, 4093, 2187, 4596, 7790, 2125, 8244, 1622,\n",
      "       4717, 4309, 7555, 5662, 5885, 3902,  588, 4066, 5906, 5297, 4302,\n",
      "       5199, 8110, 2005, 3253, 4536, 8413, 7184, 1716, 7531,  108, 1431,\n",
      "       5936, 7003, 8191,   36, 7462, 9182, 4504, 7569, 7228, 7405, 1953,\n",
      "       4826, 6434, 8996, 7579, 1717, 7533, 3643, 4654, 8466, 6809, 4158,\n",
      "       3907, 4132, 4131, 6440, 3421, 8169, 7921, 7323, 5842, 5752, 6128,\n",
      "       3199, 5458, 5266, 3080, 7624, 6539, 4259, 8971,  402, 4525],\n",
      "      dtype=int32)\n"
     ]
    }
   ],
   "source": [
    "# Encrypt Message\n",
    "lwe_e = LWE_Encrypt(A_list, T_list, q, max_error)\n",
    "A_new, T_send = lwe_e.encrypt_message(message_binary)\n",
    "\n",
    "print(\"A_new:\")\n",
    "pprint(np.array(A_new))\n",
    "\n",
    "print(\"\\nT_send:\")\n",
    "pprint(np.array(T_send))"
   ]
  },
  {
   "cell_type": "code",
   "execution_count": 7,
   "metadata": {},
   "outputs": [
    {
     "name": "stdout",
     "output_type": "stream",
     "text": [
      "Decrypted Message: [0, 1, 0, 0, 1, 1, 0, 1, 0, 1, 1, 1, 1, 0, 0, 1, 0, 0, 1, 0, 0, 0, 0, 0, 0, 1, 1, 1, 0, 1, 0, 1, 0, 1, 1, 1, 0, 0, 1, 1, 0, 1, 1, 0, 0, 1, 0, 1, 0, 1, 1, 1, 0, 0, 1, 0, 0, 1, 1, 0, 1, 1, 1, 0, 0, 1, 1, 0, 0, 0, 0, 1, 0, 1, 1, 0, 1, 1, 0, 1, 0, 1, 1, 0, 0, 1, 0, 1, 0, 0, 1, 0, 0, 0, 0, 0, 0, 1, 1, 0, 1, 0, 0, 1, 0, 1, 1, 1, 0, 0, 1, 1, 0, 0, 1, 0, 0, 0, 0, 0, 0, 1, 0, 1, 0, 0, 1, 0, 0, 1, 1, 0, 0, 0, 0, 1, 0, 1, 1, 0, 1, 0, 0, 0, 0, 1, 1, 1, 0, 1, 0, 1, 0, 1, 1, 0, 1, 1, 0, 0, 0, 1, 0, 0, 0, 1, 1, 1, 0, 0, 1, 1, 0, 0, 0, 1, 0, 0, 1, 1, 0, 0, 1, 1, 0, 0, 1, 1, 0, 0, 0, 0, 0, 0, 1, 1, 1, 0, 0, 1, 0, 0, 1, 0, 1, 1, 1, 0]\n",
      "\n",
      "Decoded: My username is RahulG1309.\n"
     ]
    }
   ],
   "source": [
    "# Decrypt Message\n",
    "decrypted_messge_binary = lwe_d.decrypt_message(A_new, T_send)\n",
    "decrypted_messge_ascii = binary_list_to_ascii(decrypted_messge_binary)\n",
    "print(f\"Decrypted Message: {decrypted_messge_binary}\")\n",
    "print(f\"\\nDecoded: {decrypted_messge_ascii}\")"
   ]
  },
  {
   "cell_type": "markdown",
   "metadata": {},
   "source": [
    "### 2. Arora-Ge Algebraic Attack\n",
    "\n",
    "As part of LWE, the errors are drawn from a finite set, a fact which makes\n",
    "it possible to attack LWE and recover the secret without knowing the secret\n",
    "key. Arora and Ge (Princeton) proposed an attack in 2011 that leverages this property using\n",
    "algebraic methods to recover the secret.\n",
    "\n",
    "<b>References,</b>\n",
    "<br> `https://users.cs.duke.edu/~rongge/LPSN.pdf`\n",
    "<br> `https://eprint.iacr.org/2014/1018.pdf`\n",
    "<br> `https://people.csail.mit.edu/vinodv/CS294/lecture2.pdf`\n",
    "\n",
    "If the error distribution is truncated and takes values in the set $\\{-T, ... , -1, 0, 1, ... , T\\} \\implies |E| = 2T + 1$ where, $T = \\text{max\\_error}$\n",
    "\n",
    "We can recover the secret `s` from `A_list` and `b_list` if we have enough LWE samples <A, b>.\n",
    "\n",
    "Precisely we require $m >= {n + |E| \\choose |E|}$ LWE samples to solve the system of polynomials by linearization."
   ]
  },
  {
   "cell_type": "code",
   "execution_count": 8,
   "metadata": {},
   "outputs": [],
   "source": [
    "# Set root directory\n",
    "import os\n",
    "\n",
    "ROOT_DIR = \"D:\\Coding\\CZ4010\\Applied-Cryptography-Project\"\n",
    "os.chdir(ROOT_DIR)"
   ]
  },
  {
   "cell_type": "code",
   "execution_count": 9,
   "metadata": {},
   "outputs": [],
   "source": [
    "import numpy as np\n",
    "from math import comb\n",
    "from pprint import pprint\n",
    "\n",
    "from LWE_PKC import LWE_Encrypt, LWE_Decrypt\n",
    "from utils import ascii_to_binary_list, binary_list_to_ascii\n",
    "\n",
    "from itertools import product\n",
    "from collections import defaultdict\n",
    "from sympy import symbols, Matrix, GF, init_printing\n",
    "from sympy.polys.matrices import DomainMatrix"
   ]
  },
  {
   "cell_type": "code",
   "execution_count": 10,
   "metadata": {},
   "outputs": [],
   "source": [
    "# LWE Parameters\n",
    "n = 10\n",
    "q = 9377\n",
    "max_error = 1\n",
    "\n",
    "m = 300\n",
    "\n",
    "# If we have sufficient samples we can recover the secret.\n",
    "E = 2*max_error + 1\n",
    "m = comb(n+E, E) - 1\n",
    "\n",
    "# Initialize PKC with parameters\n",
    "lwe_d = LWE_Decrypt(n=n, q=q, max_error=max_error, list_size=m)"
   ]
  },
  {
   "cell_type": "code",
   "execution_count": 11,
   "metadata": {},
   "outputs": [
    {
     "name": "stdout",
     "output_type": "stream",
     "text": [
      "Randomly Initalized Secret: [3986, 681, 8889, 1999, 2878, 4885, 493, 52, 3658, 1668]\n"
     ]
    }
   ],
   "source": [
    "# The secret is randomly initalized in the class\n",
    "A_list, b_list, q, max_error = lwe_d.get_public_keys()\n",
    "print(f\"Randomly Initalized Secret: {lwe_d.secret}\")"
   ]
  },
  {
   "cell_type": "code",
   "execution_count": 12,
   "metadata": {},
   "outputs": [
    {
     "name": "stdout",
     "output_type": "stream",
     "text": [
      "Cardinality of error set: 3\n",
      "Number of LWE samples: 285 >= 285\n"
     ]
    }
   ],
   "source": [
    "print(f\"Cardinality of error set: {E}\")\n",
    "print(f\"Number of LWE samples: {len(A_list)} >= {comb(n+E, E)-1}\")"
   ]
  },
  {
   "cell_type": "code",
   "execution_count": 13,
   "metadata": {},
   "outputs": [
    {
     "data": {
      "text/plain": [
       "(x1, x2, x3, x4, x5, x6, x7, x8, x9, x10)"
      ]
     },
     "execution_count": 13,
     "metadata": {},
     "output_type": "execute_result"
    }
   ],
   "source": [
    "# Define the secret vector\n",
    "secret_vector = symbols(f'x1:{n+1}')\n",
    "secret_vector"
   ]
  },
  {
   "cell_type": "code",
   "execution_count": 14,
   "metadata": {},
   "outputs": [],
   "source": [
    "# Construct the polynomials for each LWE instance <A, b>\n",
    "polynomials_over_Zq = []\n",
    "error_set = [i for i in range(-max_error, max_error+1)] \n",
    "\n",
    "for A, b in zip(A_list, b_list):\n",
    "    # Initalize the polynomial term to the identity polynomial of the finite field\n",
    "    polynomial_over_Zq = GF(q)[secret_vector](1)\n",
    "\n",
    "    for e in error_set:\n",
    "        # Multiply each variable by its corresponding weight\n",
    "        weighted_polynomial = sum(w * var for w, var in zip(A, secret_vector))\n",
    "\n",
    "        # Construct the weighted polynomial (this is the AT*s term in the equation)\n",
    "        weighted_secret_polynomial_over_Zq = GF(q)[secret_vector](weighted_polynomial)\n",
    "\n",
    "        # Complete the term (b - AT*s - e)\n",
    "        term = b - weighted_secret_polynomial_over_Zq - e\n",
    "\n",
    "        # Accumulate the product\n",
    "        polynomial_over_Zq = polynomial_over_Zq * term\n",
    "    \n",
    "    polynomials_over_Zq.append(polynomial_over_Zq)\n",
    "\n",
    "# Sanity check\n",
    "assert len(polynomials_over_Zq) == len(A_list)"
   ]
  },
  {
   "cell_type": "markdown",
   "metadata": {},
   "source": [
    "Now that we have the polynomials, let us solve them by linearization."
   ]
  },
  {
   "cell_type": "code",
   "execution_count": 15,
   "metadata": {},
   "outputs": [],
   "source": [
    "def generate_tuples(n, d):\n",
    "    \"\"\"\n",
    "    Helper function that determines all tuples that represent the monomials in the polynomials constructed from an LWE sample.\n",
    "    \"\"\"\n",
    "    # Use itertools.product to generate all tuples\n",
    "    tuples = list(product(range(d + 1), repeat=n))\n",
    "    \n",
    "    # Remove tuples that have a degree > d\n",
    "    tuples_pruned = [x for x in tuples if sum(x) <= d]\n",
    "\n",
    "    return tuples_pruned"
   ]
  },
  {
   "cell_type": "code",
   "execution_count": 16,
   "metadata": {},
   "outputs": [],
   "source": [
    "coefficients_dicts = []\n",
    "tuples = generate_tuples(n, E)\n",
    "\n",
    "for polynomial in polynomials_over_Zq:\n",
    "    coefficients_dict = defaultdict(int, {key: 0 for key in tuples})\n",
    "\n",
    "    for term_key, coeff in polynomial.terms():\n",
    "        coefficients_dict[term_key] = int(coeff) # NOTE: Converting to int!!!\n",
    "\n",
    "    coefficients_dicts.append(coefficients_dict)"
   ]
  },
  {
   "cell_type": "code",
   "execution_count": 17,
   "metadata": {},
   "outputs": [],
   "source": [
    "row_order = []\n",
    "\n",
    "# Let's keep the degree 1 terms up front for convenince\n",
    "for i in range(n):\n",
    "    term = [0]*n\n",
    "    term[i] = 1\n",
    "    row_order.append(tuple(term))\n",
    "\n",
    "# We want the secret at the start and the constant term at the end\n",
    "seen = set(row_order)\n",
    "constant_term_key = tuple([0]*n)\n",
    "candidates = generate_tuples(n, E)\n",
    "\n",
    "for x in candidates:\n",
    "    if x not in seen and x != constant_term_key:\n",
    "        row_order.append(x)\n",
    "\n",
    "# Ensure the constant term is at the end\n",
    "row_order.append(constant_term_key)\n",
    "\n",
    "# Sanity check\n",
    "assert len(row_order) == len(candidates)"
   ]
  },
  {
   "cell_type": "code",
   "execution_count": 18,
   "metadata": {},
   "outputs": [],
   "source": [
    "# Construct the coefficient matrix\n",
    "coefficient_matrix = []\n",
    "rhs = []\n",
    "\n",
    "for coeff_dict in coefficients_dicts:\n",
    "    row = []\n",
    "\n",
    "    for key in row_order[:-1]:\n",
    "        row.append(coeff_dict[key])\n",
    "    \n",
    "    # Append row\n",
    "    coefficient_matrix.append(row)\n",
    "\n",
    "    # Append the rhs\n",
    "    negative_constant_term = -coeff_dict[row_order[-1]]\n",
    "    rhs.append(negative_constant_term)"
   ]
  },
  {
   "cell_type": "markdown",
   "metadata": {},
   "source": [
    "Let us take a look at the matrices before solving them over the Zq domain."
   ]
  },
  {
   "cell_type": "code",
   "execution_count": 19,
   "metadata": {},
   "outputs": [
    {
     "name": "stdout",
     "output_type": "stream",
     "text": [
      "(285, 285)\n",
      "(285, 1)\n"
     ]
    }
   ],
   "source": [
    "# Solving linear system using DomainMatrix\n",
    "m = Matrix(coefficient_matrix)\n",
    "b = Matrix(rhs)\n",
    "\n",
    "# Convert matrices to finite field of order q (q is prime):\n",
    "K = GF(q, symmetric=False)\n",
    "dm = DomainMatrix.from_Matrix(m).convert_to(K)\n",
    "bm = DomainMatrix.from_Matrix(b).convert_to(K)\n",
    "\n",
    "# Print shape of system of equations\n",
    "print(dm.shape)\n",
    "print(bm.shape)\n",
    "\n",
    "# Solve and convert back to an ordinary Matrix:\n",
    "solution_vector = dm.lu_solve(bm).to_Matrix()"
   ]
  },
  {
   "cell_type": "code",
   "execution_count": 20,
   "metadata": {},
   "outputs": [
    {
     "name": "stdout",
     "output_type": "stream",
     "text": [
      "Randomly Initalized Secret:\t\t[3986, 681, 8889, 1999, 2878, 4885, 493, 52, 3658, 1668]\n",
      "Secret obtained from Arora-Ge Attack:\t[3986, 681, 8889, 1999, 2878, 4885, 493, 52, 3658, 1668]\n"
     ]
    }
   ],
   "source": [
    "print(f\"Randomly Initalized Secret:\\t\\t{lwe_d.secret}\")\n",
    "print(f\"Secret obtained from Arora-Ge Attack:\\t{solution_vector[:n]}\")"
   ]
  },
  {
   "cell_type": "code",
   "execution_count": 21,
   "metadata": {},
   "outputs": [
    {
     "name": "stdout",
     "output_type": "stream",
     "text": [
      "Did we correctly determine the secret? \n",
      "True\n"
     ]
    }
   ],
   "source": [
    "print(f\"Did we correctly determine the secret? \\n{lwe_d.secret == solution_vector[:n]}\")"
   ]
  },
  {
   "cell_type": "markdown",
   "metadata": {},
   "source": [
    "Works pretty well for `n <= 12` and `max_error = 1 or 2`. Basically ensure `m <= 1000` else it takes VERY long to run and will most likely go out of memory too.\n"
   ]
  },
  {
   "cell_type": "markdown",
   "metadata": {},
   "source": [
    "### Thank you!\n"
   ]
  }
 ],
 "metadata": {
  "kernelspec": {
   "display_name": "cz4010",
   "language": "python",
   "name": "python3"
  },
  "language_info": {
   "codemirror_mode": {
    "name": "ipython",
    "version": 3
   },
   "file_extension": ".py",
   "mimetype": "text/x-python",
   "name": "python",
   "nbconvert_exporter": "python",
   "pygments_lexer": "ipython3",
   "version": "3.10.13"
  }
 },
 "nbformat": 4,
 "nbformat_minor": 2
}
