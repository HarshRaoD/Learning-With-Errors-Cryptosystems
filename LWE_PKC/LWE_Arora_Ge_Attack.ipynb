{
 "cells": [
  {
   "cell_type": "code",
   "execution_count": 1,
   "metadata": {},
   "outputs": [],
   "source": [
    "# Set root directory\n",
    "import os\n",
    "\n",
    "ROOT_DIR = \"D:\\Coding\\CZ4010\\Applied-Cryptography-Project\"\n",
    "os.chdir(ROOT_DIR)"
   ]
  },
  {
   "cell_type": "code",
   "execution_count": 2,
   "metadata": {},
   "outputs": [],
   "source": [
    "from utils import ascii_to_binary_list, binary_list_to_ascii\n",
    "from LWE_PKC import LWE_Encrypt, LWE_Decrypt\n",
    "from math import comb"
   ]
  },
  {
   "cell_type": "markdown",
   "metadata": {},
   "source": [
    "### 1. Testing out the Cryptosystem\n"
   ]
  },
  {
   "cell_type": "code",
   "execution_count": 3,
   "metadata": {},
   "outputs": [],
   "source": [
    "bit_message = [1]"
   ]
  },
  {
   "cell_type": "code",
   "execution_count": 4,
   "metadata": {},
   "outputs": [],
   "source": [
    "# Weak Parameters\n",
    "n = 3\n",
    "q = 17\n",
    "max_error = 1\n",
    "S = 2*max_error + 1   # Cardinality of the error set\n",
    "m = 2*comb(n+S, S)    # The number of eqations must be >> (n+S)C(s)"
   ]
  },
  {
   "cell_type": "code",
   "execution_count": 5,
   "metadata": {},
   "outputs": [
    {
     "name": "stdout",
     "output_type": "stream",
     "text": [
      "Randomly Initalized Secret: [5, 2, 12]\n"
     ]
    }
   ],
   "source": [
    "# Initialize PKC with parameters\n",
    "lwe_d = LWE_Decrypt(n=n, q=q, max_error=max_error, list_size=m)\n",
    "\n",
    "# Get public keys\n",
    "A_list, T_list, q, max_error = lwe_d.get_public_keys()\n",
    "# print(A_list)\n",
    "# print(T_list)\n",
    "print(f\"Randomly Initalized Secret: {lwe_d.secret}\")"
   ]
  },
  {
   "cell_type": "code",
   "execution_count": 6,
   "metadata": {},
   "outputs": [
    {
     "name": "stdout",
     "output_type": "stream",
     "text": [
      "A_new = [array([10, 10,  1], dtype=int32)]\n",
      "T_send = [4]\n"
     ]
    }
   ],
   "source": [
    "# Encrypt Message\n",
    "lwe_e = LWE_Encrypt(A_list, T_list, q, max_error)\n",
    "A_new, T_send = lwe_e.encrypt_message(bit_message)\n",
    "print(f\"A_new = {A_new}\\nT_send = {T_send}\")"
   ]
  },
  {
   "cell_type": "code",
   "execution_count": 7,
   "metadata": {},
   "outputs": [
    {
     "name": "stdout",
     "output_type": "stream",
     "text": [
      "Decrypted Message = [1]\n"
     ]
    }
   ],
   "source": [
    "# Decrypt Message\n",
    "decrypted_binary_message = lwe_d.decrypt_message(A_new, T_send)\n",
    "decrypted_message = binary_list_to_ascii(decrypted_binary_message)\n",
    "print(f\"Decrypted Message = {decrypted_binary_message}\")"
   ]
  },
  {
   "cell_type": "markdown",
   "metadata": {},
   "source": [
    "### Arora-Ge Attack\n",
    "\n",
    "An algebraic attack when the max_error parameter is small.\n",
    "\n",
    "`https://eprint.iacr.org/2014/1018.pdf`\n"
   ]
  },
  {
   "cell_type": "code",
   "execution_count": 60,
   "metadata": {},
   "outputs": [],
   "source": [
    "# Weak Parameters\n",
    "n = 12\n",
    "q = 1193\n",
    "max_error = 1\n",
    "E = 2*max_error + 1   # Cardinality of the error set\n",
    "\n",
    "# Set the number of samples wisely!\n",
    "# m = int(2 * comb(n+E, E))   # The number of eqations must be >> (n+S)C(s)\n",
    "# m = int(2 * n ** (E))\n",
    "m = 500"
   ]
  },
  {
   "cell_type": "code",
   "execution_count": 61,
   "metadata": {},
   "outputs": [
    {
     "name": "stdout",
     "output_type": "stream",
     "text": [
      "Randomly Initalized Secret: [468, 108, 1058, 350, 403, 569, 233, 39, 866, 733, 679, 962]\n"
     ]
    }
   ],
   "source": [
    "# Initialize PKC with parameters\n",
    "lwe_d = LWE_Decrypt(n=n, q=q, max_error=max_error, list_size=m)\n",
    "\n",
    "# The secret is randomly initalized in the class\n",
    "A_list, b_list, q, max_error = lwe_d.get_public_keys()\n",
    "print(f\"Randomly Initalized Secret: {lwe_d.secret}\")"
   ]
  },
  {
   "cell_type": "markdown",
   "metadata": {},
   "source": [
    "We are going to recover the secret `s` from `A_list` and `b_list` given the following weak parameters,\n",
    "\n",
    "1. The error is truncated and takes values in the set $\\{-T, ... , -1, 0, 1, ... , T\\} \\implies |E| = 2T + 1$\n",
    "   <br>\n",
    "   <br>\n",
    "2. The number of equations in `A_list`, $m >> {n + |E| \\choose |E|}$\n"
   ]
  },
  {
   "cell_type": "code",
   "execution_count": 62,
   "metadata": {},
   "outputs": [
    {
     "name": "stdout",
     "output_type": "stream",
     "text": [
      "Cardinality of error set: 3\n",
      "Number of equations: 500 >> 455\n"
     ]
    }
   ],
   "source": [
    "print(f\"Cardinality of error set: {E}\")\n",
    "print(f\"Number of equations: {len(A_list)} >> {comb(n+E, E)}\")"
   ]
  },
  {
   "cell_type": "code",
   "execution_count": 63,
   "metadata": {},
   "outputs": [],
   "source": [
    "from itertools import product\n",
    "from collections import defaultdict\n",
    "from sympy import symbols, Matrix, GF\n",
    "from sympy.polys.matrices import DomainMatrix"
   ]
  },
  {
   "cell_type": "code",
   "execution_count": 64,
   "metadata": {},
   "outputs": [
    {
     "data": {
      "text/plain": [
       "(x1, x2, x3, x4, x5, x6, x7, x8, x9, x10, x11, x12)"
      ]
     },
     "execution_count": 64,
     "metadata": {},
     "output_type": "execute_result"
    }
   ],
   "source": [
    "# Define the secret vector\n",
    "secret_vector = symbols(f'x1:{n+1}')\n",
    "secret_vector"
   ]
  },
  {
   "cell_type": "code",
   "execution_count": 65,
   "metadata": {},
   "outputs": [],
   "source": [
    "polynomials_over_Zq = []\n",
    "error_set = [i for i in range(-max_error, max_error+1)] \n",
    "\n",
    "# Begin constructing the polynomials for each LWE instance <A, b>\n",
    "for A, b in zip(A_list, b_list):\n",
    "    # Initalize the polynomial term to the identity polynomial of the finite field\n",
    "    polynomial_over_Zq = GF(q)[secret_vector](1)\n",
    "\n",
    "    for e in error_set:\n",
    "        # Multiply each variable by its corresponding weight\n",
    "        weighted_polynomial = sum(w * var for w, var in zip(A, secret_vector))\n",
    "        # print(weighted_polynomial)\n",
    "\n",
    "        # Construct the weighted polynomial (this is the AT*s term in the equation)\n",
    "        weighted_secret_polynomial_over_Zq = GF(q)[secret_vector](weighted_polynomial)\n",
    "        # print(weighted_secret_polynomial_over_Zq)\n",
    "\n",
    "        # Complete the term (b - AT*s - e)\n",
    "        term = b - weighted_secret_polynomial_over_Zq - e\n",
    "        # print(term)\n",
    "\n",
    "        # Accumulate the product of each term over Zq\n",
    "        polynomial_over_Zq = polynomial_over_Zq * term\n",
    "        # print(polynomial_over_Zq)\n",
    "    \n",
    "    # Collect the polynomials\n",
    "    polynomials_over_Zq.append(polynomial_over_Zq)\n",
    "\n",
    "# Sanity check\n",
    "assert len(polynomials_over_Zq) == len(A_list)"
   ]
  },
  {
   "cell_type": "code",
   "execution_count": 66,
   "metadata": {},
   "outputs": [],
   "source": [
    "def generate_tuples(n, d):\n",
    "    # Use itertools.product to generate all tuples\n",
    "    tuples = list(product(range(d + 1), repeat=n))\n",
    "    \n",
    "    # Remove tuples that have a degree > d\n",
    "    tuples_pruned = [x for x in tuples if sum(x) <= d]\n",
    "\n",
    "    return tuples_pruned"
   ]
  },
  {
   "cell_type": "code",
   "execution_count": 67,
   "metadata": {},
   "outputs": [],
   "source": [
    "coefficients_dicts = []\n",
    "tuples = generate_tuples(n, E)\n",
    "\n",
    "for polynomial in polynomials_over_Zq:\n",
    "    coefficients_dict = defaultdict(int, {key: 0 for key in tuples})\n",
    "\n",
    "    for term_key, coeff in polynomial.terms():\n",
    "        coefficients_dict[term_key] = int(coeff) # NOTE: Converting to negative int!!!\n",
    "\n",
    "    coefficients_dicts.append(coefficients_dict)"
   ]
  },
  {
   "cell_type": "code",
   "execution_count": 68,
   "metadata": {},
   "outputs": [],
   "source": [
    "# # Checking an example\n",
    "# coefficients_dicts[0]"
   ]
  },
  {
   "cell_type": "code",
   "execution_count": 69,
   "metadata": {},
   "outputs": [],
   "source": [
    "row_order = []\n",
    "\n",
    "# Let's keep the degree 1 terms up front for convenince\n",
    "for i in range(n):\n",
    "    term = [0]*n\n",
    "    term[i] = 1\n",
    "    row_order.append(tuple(term))\n",
    "\n",
    "# We want the secret at the start and the constant term at the end\n",
    "seen = set(row_order)\n",
    "constant_term_key = tuple([0]*n)\n",
    "candidates = generate_tuples(n, E)\n",
    "\n",
    "for x in candidates:\n",
    "    if x not in seen and x != constant_term_key:\n",
    "        row_order.append(x)\n",
    "\n",
    "# Ensure the constant term is at the end\n",
    "row_order.append(constant_term_key)\n",
    "\n",
    "# Sanity check\n",
    "assert len(row_order) == len(candidates)"
   ]
  },
  {
   "cell_type": "code",
   "execution_count": 70,
   "metadata": {},
   "outputs": [],
   "source": [
    "coefficient_matrix = []\n",
    "rhs = []\n",
    "\n",
    "for coeff_dict in coefficients_dicts:\n",
    "    row = []\n",
    "\n",
    "    for key in row_order[:-1]:\n",
    "        row.append(coeff_dict[key])\n",
    "    \n",
    "    # Append row\n",
    "    coefficient_matrix.append(row)\n",
    "\n",
    "    # Append the rhs\n",
    "    negative_constant_term = -coeff_dict[row_order[-1]]\n",
    "    rhs.append(negative_constant_term)"
   ]
  },
  {
   "cell_type": "code",
   "execution_count": 71,
   "metadata": {},
   "outputs": [
    {
     "name": "stdout",
     "output_type": "stream",
     "text": [
      "(500, 454)\n",
      "(500, 1)\n",
      "Matrix([[468], [108], [1058], [350], [403], [569], [233], [39], [866], [733], [679], [962], [869], [878], [627], [709], [543], [1025], [60], [83], [1108], [226], [286], [750], [439], [1189], [1024], [870], [378], [964], [1058], [167], [196], [102], [298], [64], [800], [752], [466], [4], [50], [1047], [535], [487], [235], [593], [896], [1148], [851], [463], [419], [370], [426], [700], [399], [696], [328], [584], [814], [631], [114], [862], [1055], [860], [731], [545], [61], [190], [251], [166], [882], [161], [985], [756], [1099], [1038], [736], [583], [1070], [252], [314], [72], [604], [57], [917], [129], [530], [889], [1151], [984], [559], [1012], [56], [1173], [720], [700], [943], [454], [45], [342], [730], [774], [794], [717], [200], [99], [641], [562], [524], [154], [216], [775], [740], [941], [41], [92], [458], [379], [802], [481], [552], [1160], [537], [528], [1154], [658], [440], [958], [510], [728], [45], [410], [353], [642], [823], [473], [544], [34], [208], [865], [458], [953], [1178], [954], [845], [457], [1115], [218], [461], [744], [40], [251], [476], [1023], [261], [240], [245], [26], [852], [161], [985], [756], [1099], [1038], [314], [530], [941], [461], [274], [1128], [243], [1131], [363], [55], [418], [362], [946], [78], [1070], [470], [1103], [740], [527], [1142], [1126], [952], [656], [272], [426], [613], [548], [885], [279], [1105], [239], [1112], [816], [1072], [277], [241], [420], [215], [438], [276], [666], [103], [691], [416], [27], [1079], [761], [279], [814], [460], [347], [162], [1054], [728], [1168], [282], [1160], [966], [167], [792], [196], [58], [661], [64], [725], [508], [385], [4], [269], [330], [546], [1078], [700], [548], [486], [110], [156], [1054], [756], [735], [334], [596], [932], [852], [777], [730], [776], [575], [626], [1083], [1031], [684], [206], [473], [493], [250], [739], [419], [552], [453], [712], [932], [470], [1186], [599], [926], [207], [435], [947], [198], [916], [1059], [330], [122], [979], [904], [653], [940], [538], [469], [567], [972], [784], [105], [798], [559], [908], [187], [426], [613], [548], [885], [474], [262], [929], [279], [92], [633], [516], [327], [1105], [591], [827], [111], [605], [210], [239], [686], [750], [810], [609], [95], [733], [215], [88], [1084], [1123], [551], [576], [560], [993], [1079], [142], [990], [592], [862], [686], [817], [960], [1191], [1168], [73], [845], [674], [796], [1176], [823], [929], [141], [887], [947], [432], [441], [524], [102], [978], [654], [1043], [927], [603], [722], [674], [1086], [363], [58], [157], [172], [1147], [120], [1097], [455], [1072], [434], [1151], [15], [653], [668], [784], [256], [861], [340], [49], [16], [1], [357], [1043], [224], [414], [175], [800], [481], [1031], [910], [638], [189], [864], [1124], [253], [14], [1188], [534], [779], [323], [492], [797], [110], [836], [724], [699], [1013], [711], [577], [554], [189], [359], [581], [389], [687], [714], [878], [137], [268], [324], [385], [49], [611], [1060], [127], [679], [718], [680], [442], [659], [448], [543], [438], [227], [345], [137], [1127], [380], [649], [1078], [1143], [596], [520], [777], [705], [586], [302], [196], [907], [56], [824], [297], [181], [992], [265], [981], [672]])\n"
     ]
    }
   ],
   "source": [
    "# Solving linear system using DomainMatrix\n",
    "m = Matrix(coefficient_matrix)\n",
    "b = Matrix(rhs)\n",
    "\n",
    "# Convert matrices to finite field of order q (q is prime):\n",
    "K = GF(q, symmetric=False)\n",
    "dm = DomainMatrix.from_Matrix(m).convert_to(K)\n",
    "bm = DomainMatrix.from_Matrix(b).convert_to(K)\n",
    "\n",
    "# Print shape of system of equations\n",
    "print(dm.shape)\n",
    "print(bm.shape)\n",
    "\n",
    "# Solve and convert back to an ordinary Matrix:\n",
    "solution_vector = dm.lu_solve(bm).to_Matrix()\n",
    "print(solution_vector)"
   ]
  },
  {
   "cell_type": "code",
   "execution_count": 72,
   "metadata": {},
   "outputs": [
    {
     "name": "stdout",
     "output_type": "stream",
     "text": [
      "Randomly Initalized Secret:\t\t[468, 108, 1058, 350, 403, 569, 233, 39, 866, 733, 679, 962]\n",
      "Secret obtained from Arora-Ge Attack:\t[468, 108, 1058, 350, 403, 569, 233, 39, 866, 733, 679, 962]\n"
     ]
    }
   ],
   "source": [
    "print(f\"Randomly Initalized Secret:\\t\\t{lwe_d.secret}\")\n",
    "print(f\"Secret obtained from Arora-Ge Attack:\\t{solution_vector[:n]}\")"
   ]
  },
  {
   "cell_type": "code",
   "execution_count": 76,
   "metadata": {},
   "outputs": [
    {
     "name": "stdout",
     "output_type": "stream",
     "text": [
      "Did we correctly determine the secret? \n",
      "True\n"
     ]
    }
   ],
   "source": [
    "print(f\"Did we correctly determine the secret? \\n{lwe_d.secret == solution_vector[:n]}\")"
   ]
  },
  {
   "cell_type": "markdown",
   "metadata": {},
   "source": [
    "Works pretty well for `n <= 10` and `max_error = 1 or 2`. Basically ensure `m <= 1000` else it takes VERY long to run. \n"
   ]
  },
  {
   "cell_type": "markdown",
   "metadata": {},
   "source": [
    "### Efficient Implementation using Groebner Basis\n",
    "\n",
    "Does not work very well, better implement in Sage.\n"
   ]
  },
  {
   "cell_type": "code",
   "execution_count": 73,
   "metadata": {},
   "outputs": [],
   "source": [
    "# from sympy import symbols, Poly, GF, groebner\n",
    "\n",
    "# def arora_ge_attack(q, A, b, E, S=None):\n",
    "#     \"\"\"\n",
    "#     Recovers the secret key s from the LWE samples A and b.\n",
    "#     More information: \"The Learning with Errors Problem: Algorithms\" (Section 1)\n",
    "#     :param q: the modulus\n",
    "#     :param A: the matrix A, represented as a list of lists\n",
    "#     :param b: the vector b, represented as a list\n",
    "#     :param E: the possible error values\n",
    "#     :param S: the possible values of the entries in s (default: None)\n",
    "#     :return: a list representing the secret key s\n",
    "#     \"\"\"\n",
    "#     m = len(A)\n",
    "#     n = len(A[0])\n",
    "\n",
    "#     x = symbols(tuple(f\"x{i}\" for i in range(n)))\n",
    "#     gf = GF(q)\n",
    "#     pr = gf[x]\n",
    "#     gens = pr.symbols\n",
    "\n",
    "#     f = []\n",
    "#     for i in range(m):\n",
    "#         p = 1\n",
    "#         for e in E:\n",
    "#             p *= (b[i] - sum(A[i][j] * gens[j] for j in range(n)) - e)\n",
    "#         f.append(p)\n",
    "\n",
    "#     if S is not None:\n",
    "#         # Use information about the possible values for s to add more polynomials.\n",
    "#         for j in range(n):\n",
    "#             p = 1\n",
    "#             for s in S:\n",
    "#                 p *= (gens[j] - s)\n",
    "#             f.append(p)\n",
    "\n",
    "#     ideal = [Poly(poly, gens) for poly in f]\n",
    "#     basis = groebner(ideal, gens, order='lex')\n",
    "\n",
    "#     s = []\n",
    "#     for poly in basis:\n",
    "#         #assert poly.variables() == 1 and poly.degree() == 1\n",
    "#         s.append(int(-poly.coeffs()[0]))\n",
    "\n",
    "#     return s"
   ]
  },
  {
   "cell_type": "code",
   "execution_count": 74,
   "metadata": {},
   "outputs": [],
   "source": [
    "# error_values = [i for i in range(-max_error, max_error+1)] \n",
    "# x = arora_ge_attack(q=q, A=A_list, b=b_list, E=error_values)"
   ]
  }
 ],
 "metadata": {
  "kernelspec": {
   "display_name": "cz4010",
   "language": "python",
   "name": "python3"
  },
  "language_info": {
   "codemirror_mode": {
    "name": "ipython",
    "version": 3
   },
   "file_extension": ".py",
   "mimetype": "text/x-python",
   "name": "python",
   "nbconvert_exporter": "python",
   "pygments_lexer": "ipython3",
   "version": "3.10.13"
  }
 },
 "nbformat": 4,
 "nbformat_minor": 2
}
