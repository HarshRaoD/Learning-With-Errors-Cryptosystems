{
 "cells": [
  {
   "cell_type": "code",
   "execution_count": 1,
   "metadata": {},
   "outputs": [],
   "source": [
    "# Set root directory\n",
    "import os\n",
    "\n",
    "ROOT_DIR = \"D:\\Coding\\CZ4010\\Applied-Cryptography-Project\"\n",
    "os.chdir(ROOT_DIR)"
   ]
  },
  {
   "cell_type": "code",
   "execution_count": 2,
   "metadata": {},
   "outputs": [],
   "source": [
    "from utils import ascii_to_binary_list, binary_list_to_ascii\n",
    "from LWE_PKC import LWE_Encrypt, LWE_Decrypt\n",
    "from math import comb"
   ]
  },
  {
   "cell_type": "markdown",
   "metadata": {},
   "source": [
    "### 1. Testing out the Cryptosystem\n"
   ]
  },
  {
   "cell_type": "code",
   "execution_count": 3,
   "metadata": {},
   "outputs": [],
   "source": [
    "bit_message = [1]"
   ]
  },
  {
   "cell_type": "code",
   "execution_count": 4,
   "metadata": {},
   "outputs": [],
   "source": [
    "# Weak Parameters\n",
    "n = 5\n",
    "q = 103\n",
    "max_error = 2\n",
    "m = 20"
   ]
  },
  {
   "cell_type": "code",
   "execution_count": 5,
   "metadata": {},
   "outputs": [
    {
     "name": "stdout",
     "output_type": "stream",
     "text": [
      "Randomly Initalized Secret: [56, 92, 75, 11, 62]\n"
     ]
    }
   ],
   "source": [
    "# Initialize PKC with parameters\n",
    "lwe_d = LWE_Decrypt(n=n, q=q, max_error=max_error, list_size=m)\n",
    "\n",
    "# Get public keys\n",
    "A_list, T_list, q, max_error = lwe_d.get_public_keys()\n",
    "# print(A_list)\n",
    "# print(T_list)\n",
    "print(f\"Randomly Initalized Secret: {lwe_d.secret}\")"
   ]
  },
  {
   "cell_type": "code",
   "execution_count": 6,
   "metadata": {},
   "outputs": [
    {
     "name": "stdout",
     "output_type": "stream",
     "text": [
      "A_new = [array([50, 86, 82, 20, 71], dtype=int32)]\n",
      "T_send = [8]\n"
     ]
    }
   ],
   "source": [
    "# Encrypt Message\n",
    "lwe_e = LWE_Encrypt(A_list, T_list, q, max_error)\n",
    "A_new, T_send = lwe_e.encrypt_message(bit_message)\n",
    "print(f\"A_new = {A_new}\\nT_send = {T_send}\")"
   ]
  },
  {
   "cell_type": "code",
   "execution_count": 7,
   "metadata": {},
   "outputs": [
    {
     "name": "stdout",
     "output_type": "stream",
     "text": [
      "Decrypted Message = [1]\n"
     ]
    }
   ],
   "source": [
    "# Decrypt Message\n",
    "decrypted_binary_message = lwe_d.decrypt_message(A_new, T_send)\n",
    "decrypted_message = binary_list_to_ascii(decrypted_binary_message)\n",
    "print(f\"Decrypted Message = {decrypted_binary_message}\")"
   ]
  },
  {
   "cell_type": "markdown",
   "metadata": {},
   "source": [
    "### Arora-Ge Attack\n",
    "\n",
    "An algebraic attack when the max_error parameter is small.\n",
    "\n",
    "`https://eprint.iacr.org/2014/1018.pdf`\n"
   ]
  },
  {
   "cell_type": "code",
   "execution_count": 19,
   "metadata": {},
   "outputs": [],
   "source": [
    "# Weak Parameters\n",
    "n = 12\n",
    "q = 6353\n",
    "max_error = 1\n",
    "E = 2*max_error + 1   # Cardinality of the error set\n",
    "\n",
    "# Set the number of samples wisely!\n",
    "# m = int(2 * comb(n+E, E))   # The number of eqations must be >> (n+S)C(s)\n",
    "# m = int(2 * n ** (E))\n",
    "m = 500"
   ]
  },
  {
   "cell_type": "code",
   "execution_count": 20,
   "metadata": {},
   "outputs": [
    {
     "name": "stdout",
     "output_type": "stream",
     "text": [
      "Randomly Initalized Secret: [1288, 2676, 2321, 3880, 1655, 6125, 4811, 4762, 4222, 240, 5711, 4918]\n"
     ]
    }
   ],
   "source": [
    "# Initialize PKC with parameters\n",
    "lwe_d = LWE_Decrypt(n=n, q=q, max_error=max_error, list_size=m)\n",
    "\n",
    "# The secret is randomly initalized in the class\n",
    "A_list, b_list, q, max_error = lwe_d.get_public_keys()\n",
    "print(f\"Randomly Initalized Secret: {lwe_d.secret}\")"
   ]
  },
  {
   "cell_type": "markdown",
   "metadata": {},
   "source": [
    "We are going to recover the secret `s` from `A_list` and `b_list` given the following weak parameters,\n",
    "\n",
    "1. The error is truncated and takes values in the set $\\{-T, ... , -1, 0, 1, ... , T\\} \\implies |E| = 2T + 1$\n",
    "   <br>\n",
    "   <br>\n",
    "2. The number of equations in `A_list`, $m >> {n + |E| \\choose |E|}$\n"
   ]
  },
  {
   "cell_type": "code",
   "execution_count": 21,
   "metadata": {},
   "outputs": [
    {
     "name": "stdout",
     "output_type": "stream",
     "text": [
      "Cardinality of error set: 3\n",
      "Number of equations: 500 >> 455\n"
     ]
    }
   ],
   "source": [
    "print(f\"Cardinality of error set: {E}\")\n",
    "print(f\"Number of equations: {len(A_list)} >> {comb(n+E, E)}\")\n",
    "\n",
    "# Sanity Check\n",
    "assert len(A_list) >= comb(n+E, E)"
   ]
  },
  {
   "cell_type": "code",
   "execution_count": 22,
   "metadata": {},
   "outputs": [],
   "source": [
    "from itertools import product\n",
    "from collections import defaultdict\n",
    "from sympy import symbols, Matrix, GF\n",
    "from sympy.polys.matrices import DomainMatrix"
   ]
  },
  {
   "cell_type": "code",
   "execution_count": 23,
   "metadata": {},
   "outputs": [
    {
     "data": {
      "text/plain": [
       "(x1, x2, x3, x4, x5, x6, x7, x8, x9, x10, x11, x12)"
      ]
     },
     "execution_count": 23,
     "metadata": {},
     "output_type": "execute_result"
    }
   ],
   "source": [
    "# Define the secret vector\n",
    "secret_vector = symbols(f'x1:{n+1}')\n",
    "secret_vector"
   ]
  },
  {
   "cell_type": "code",
   "execution_count": 24,
   "metadata": {},
   "outputs": [],
   "source": [
    "polynomials_over_Zq = []\n",
    "error_set = [i for i in range(-max_error, max_error+1)] \n",
    "\n",
    "# Begin constructing the polynomials for each LWE instance <A, b>\n",
    "for A, b in zip(A_list, b_list):\n",
    "    # Initalize the polynomial term to the identity polynomial of the finite field\n",
    "    polynomial_over_Zq = GF(q)[secret_vector](1)\n",
    "\n",
    "    for e in error_set:\n",
    "        # Multiply each variable by its corresponding weight\n",
    "        weighted_polynomial = sum(w * var for w, var in zip(A, secret_vector))\n",
    "        # print(weighted_polynomial)\n",
    "\n",
    "        # Construct the weighted polynomial (this is the AT*s term in the equation)\n",
    "        weighted_secret_polynomial_over_Zq = GF(q)[secret_vector](weighted_polynomial)\n",
    "        # print(weighted_secret_polynomial_over_Zq)\n",
    "\n",
    "        # Complete the term (b - AT*s - e)\n",
    "        term = b - weighted_secret_polynomial_over_Zq - e\n",
    "        # print(term)\n",
    "\n",
    "        # Accumulate the product of each term over Zq\n",
    "        polynomial_over_Zq = polynomial_over_Zq * term\n",
    "        # print(polynomial_over_Zq)\n",
    "    \n",
    "    # Collect the polynomials\n",
    "    polynomials_over_Zq.append(polynomial_over_Zq)\n",
    "\n",
    "# Sanity check\n",
    "assert len(polynomials_over_Zq) == len(A_list)"
   ]
  },
  {
   "cell_type": "code",
   "execution_count": 25,
   "metadata": {},
   "outputs": [],
   "source": [
    "def generate_tuples(n, d):\n",
    "    # Use itertools.product to generate all tuples\n",
    "    tuples = list(product(range(d + 1), repeat=n))\n",
    "    \n",
    "    # Remove tuples that have a degree > d\n",
    "    tuples_pruned = [x for x in tuples if sum(x) <= d]\n",
    "\n",
    "    return tuples_pruned"
   ]
  },
  {
   "cell_type": "code",
   "execution_count": 26,
   "metadata": {},
   "outputs": [],
   "source": [
    "coefficients_dicts = []\n",
    "tuples = generate_tuples(n, E)\n",
    "\n",
    "for polynomial in polynomials_over_Zq:\n",
    "    coefficients_dict = defaultdict(int, {key: 0 for key in tuples})\n",
    "\n",
    "    for term_key, coeff in polynomial.terms():\n",
    "        coefficients_dict[term_key] = int(coeff) # NOTE: Converting to int!!!\n",
    "\n",
    "    coefficients_dicts.append(coefficients_dict)"
   ]
  },
  {
   "cell_type": "code",
   "execution_count": 27,
   "metadata": {},
   "outputs": [],
   "source": [
    "row_order = []\n",
    "\n",
    "# Let's keep the degree 1 terms up front for convenince\n",
    "for i in range(n):\n",
    "    term = [0]*n\n",
    "    term[i] = 1\n",
    "    row_order.append(tuple(term))\n",
    "\n",
    "# We want the secret at the start and the constant term at the end\n",
    "seen = set(row_order)\n",
    "constant_term_key = tuple([0]*n)\n",
    "candidates = generate_tuples(n, E)\n",
    "\n",
    "for x in candidates:\n",
    "    if x not in seen and x != constant_term_key:\n",
    "        row_order.append(x)\n",
    "\n",
    "# Ensure the constant term is at the end\n",
    "row_order.append(constant_term_key)\n",
    "\n",
    "# Sanity check\n",
    "assert len(row_order) == len(candidates)"
   ]
  },
  {
   "cell_type": "code",
   "execution_count": 28,
   "metadata": {},
   "outputs": [],
   "source": [
    "coefficient_matrix = []\n",
    "rhs = []\n",
    "\n",
    "for coeff_dict in coefficients_dicts:\n",
    "    row = []\n",
    "\n",
    "    for key in row_order[:-1]:\n",
    "        row.append(coeff_dict[key])\n",
    "    \n",
    "    # Append row\n",
    "    coefficient_matrix.append(row)\n",
    "\n",
    "    # Append the rhs\n",
    "    negative_constant_term = -coeff_dict[row_order[-1]]\n",
    "    rhs.append(negative_constant_term)"
   ]
  },
  {
   "cell_type": "code",
   "execution_count": 29,
   "metadata": {},
   "outputs": [
    {
     "name": "stdout",
     "output_type": "stream",
     "text": [
      "(500, 454)\n",
      "(500, 1)\n"
     ]
    }
   ],
   "source": [
    "# Solving linear system using DomainMatrix\n",
    "m = Matrix(coefficient_matrix)\n",
    "b = Matrix(rhs)\n",
    "\n",
    "# Convert matrices to finite field of order q (q is prime):\n",
    "K = GF(q, symmetric=False)\n",
    "dm = DomainMatrix.from_Matrix(m).convert_to(K)\n",
    "bm = DomainMatrix.from_Matrix(b).convert_to(K)\n",
    "\n",
    "# Print shape of system of equations\n",
    "print(dm.shape)\n",
    "print(bm.shape)\n",
    "\n",
    "# Solve and convert back to an ordinary Matrix:\n",
    "solution_vector = dm.lu_solve(bm).to_Matrix()"
   ]
  },
  {
   "cell_type": "code",
   "execution_count": 30,
   "metadata": {},
   "outputs": [
    {
     "name": "stdout",
     "output_type": "stream",
     "text": [
      "Randomly Initalized Secret:\t\t[1288, 2676, 2321, 3880, 1655, 6125, 4811, 4762, 4222, 240, 5711, 4918]\n",
      "Secret obtained from Arora-Ge Attack:\t[1288, 2676, 2321, 3880, 1655, 6125, 4811, 4762, 4222, 240, 5711, 4918]\n"
     ]
    }
   ],
   "source": [
    "print(f\"Randomly Initalized Secret:\\t\\t{lwe_d.secret}\")\n",
    "print(f\"Secret obtained from Arora-Ge Attack:\\t{solution_vector[:n]}\")"
   ]
  },
  {
   "cell_type": "code",
   "execution_count": 31,
   "metadata": {},
   "outputs": [
    {
     "name": "stdout",
     "output_type": "stream",
     "text": [
      "Did we correctly determine the secret? \n",
      "True\n"
     ]
    }
   ],
   "source": [
    "print(f\"Did we correctly determine the secret? \\n{lwe_d.secret == solution_vector[:n]}\")"
   ]
  },
  {
   "cell_type": "markdown",
   "metadata": {},
   "source": [
    "Works pretty well for `n <= 10` and `max_error = 1 or 2`. Basically ensure `m <= 1000` else it takes VERY long to run. \n"
   ]
  },
  {
   "cell_type": "markdown",
   "metadata": {},
   "source": [
    "### Efficient Implementation using Groebner Basis\n",
    "\n",
    "Does not work very well, better implement in Sage.\n"
   ]
  },
  {
   "cell_type": "code",
   "execution_count": 32,
   "metadata": {},
   "outputs": [],
   "source": [
    "# from sympy import symbols, Poly, GF, groebner\n",
    "\n",
    "# def arora_ge_attack(q, A, b, E, S=None):\n",
    "#     \"\"\"\n",
    "#     Recovers the secret key s from the LWE samples A and b.\n",
    "#     More information: \"The Learning with Errors Problem: Algorithms\" (Section 1)\n",
    "#     :param q: the modulus\n",
    "#     :param A: the matrix A, represented as a list of lists\n",
    "#     :param b: the vector b, represented as a list\n",
    "#     :param E: the possible error values\n",
    "#     :param S: the possible values of the entries in s (default: None)\n",
    "#     :return: a list representing the secret key s\n",
    "#     \"\"\"\n",
    "#     m = len(A)\n",
    "#     n = len(A[0])\n",
    "\n",
    "#     x = symbols(tuple(f\"x{i}\" for i in range(n)))\n",
    "#     gf = GF(q)\n",
    "#     pr = gf[x]\n",
    "#     gens = pr.symbols\n",
    "\n",
    "#     f = []\n",
    "#     for i in range(m):\n",
    "#         p = 1\n",
    "#         for e in E:\n",
    "#             p *= (b[i] - sum(A[i][j] * gens[j] for j in range(n)) - e)\n",
    "#         f.append(p)\n",
    "\n",
    "#     if S is not None:\n",
    "#         # Use information about the possible values for s to add more polynomials.\n",
    "#         for j in range(n):\n",
    "#             p = 1\n",
    "#             for s in S:\n",
    "#                 p *= (gens[j] - s)\n",
    "#             f.append(p)\n",
    "\n",
    "#     ideal = [Poly(poly, gens) for poly in f]\n",
    "#     basis = groebner(ideal, gens, order='lex')\n",
    "\n",
    "#     s = []\n",
    "#     for poly in basis:\n",
    "#         #assert poly.variables() == 1 and poly.degree() == 1\n",
    "#         s.append(int(-poly.coeffs()[0]))\n",
    "\n",
    "#     return s"
   ]
  },
  {
   "cell_type": "code",
   "execution_count": 33,
   "metadata": {},
   "outputs": [],
   "source": [
    "# error_values = [i for i in range(-max_error, max_error+1)] \n",
    "# x = arora_ge_attack(q=q, A=A_list, b=b_list, E=error_values)"
   ]
  }
 ],
 "metadata": {
  "kernelspec": {
   "display_name": "cz4010",
   "language": "python",
   "name": "python3"
  },
  "language_info": {
   "codemirror_mode": {
    "name": "ipython",
    "version": 3
   },
   "file_extension": ".py",
   "mimetype": "text/x-python",
   "name": "python",
   "nbconvert_exporter": "python",
   "pygments_lexer": "ipython3",
   "version": "3.10.13"
  }
 },
 "nbformat": 4,
 "nbformat_minor": 2
}
