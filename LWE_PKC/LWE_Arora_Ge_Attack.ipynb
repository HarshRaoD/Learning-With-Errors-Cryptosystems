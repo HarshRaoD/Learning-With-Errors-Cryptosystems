{
 "cells": [
  {
   "cell_type": "code",
   "execution_count": 1,
   "metadata": {},
   "outputs": [],
   "source": [
    "# Set root directory\n",
    "import os\n",
    "\n",
    "ROOT_DIR = \"D:\\Coding\\CZ4010\\Applied-Cryptography-Project\"\n",
    "os.chdir(ROOT_DIR)"
   ]
  },
  {
   "cell_type": "code",
   "execution_count": 2,
   "metadata": {},
   "outputs": [],
   "source": [
    "from utils import ascii_to_binary_list, binary_list_to_ascii\n",
    "from LWE_PKC import LWE_Encrypt, LWE_Decrypt\n",
    "from math import comb"
   ]
  },
  {
   "cell_type": "markdown",
   "metadata": {},
   "source": [
    "### 1. Testing out the Cryptosystem\n"
   ]
  },
  {
   "cell_type": "code",
   "execution_count": 5,
   "metadata": {},
   "outputs": [],
   "source": [
    "bit_message = [1]"
   ]
  },
  {
   "cell_type": "code",
   "execution_count": 6,
   "metadata": {},
   "outputs": [],
   "source": [
    "# Weak Parameters\n",
    "n = 3\n",
    "q = 17\n",
    "max_error = 1\n",
    "S = 2*max_error + 1   # Cardinality of the error set\n",
    "m = 2*comb(n+S, S)    # The number of eqations must be >> (n+S)C(s)"
   ]
  },
  {
   "cell_type": "code",
   "execution_count": 7,
   "metadata": {},
   "outputs": [
    {
     "name": "stdout",
     "output_type": "stream",
     "text": [
      "Randomly Initalized Secret: [9, 2, 2]\n"
     ]
    }
   ],
   "source": [
    "# Initialize PKC with parameters\n",
    "lwe_d = LWE_Decrypt(n=n, q=q, max_error=max_error, list_size=m)\n",
    "\n",
    "# Get public keys\n",
    "A_list, T_list, q, max_error = lwe_d.get_public_keys()\n",
    "# print(A_list)\n",
    "# print(T_list)\n",
    "print(f\"Randomly Initalized Secret: {lwe_d.secret}\")"
   ]
  },
  {
   "cell_type": "code",
   "execution_count": 8,
   "metadata": {},
   "outputs": [
    {
     "name": "stdout",
     "output_type": "stream",
     "text": [
      "A_new = [array([11, 15, 11], dtype=int32)]\n",
      "T_send = [8]\n"
     ]
    }
   ],
   "source": [
    "# Encrypt Message\n",
    "lwe_e = LWE_Encrypt(A_list, T_list, q, max_error)\n",
    "A_new, T_send = lwe_e.encrypt_message(bit_message)\n",
    "print(f\"A_new = {A_new}\\nT_send = {T_send}\")"
   ]
  },
  {
   "cell_type": "code",
   "execution_count": 9,
   "metadata": {},
   "outputs": [
    {
     "name": "stdout",
     "output_type": "stream",
     "text": [
      "Decrypted Message = [1]\n"
     ]
    }
   ],
   "source": [
    "# Decrypt Message\n",
    "decrypted_binary_message = lwe_d.decrypt_message(A_new, T_send)\n",
    "decrypted_message = binary_list_to_ascii(decrypted_binary_message)\n",
    "print(f\"Decrypted Message = {decrypted_binary_message}\")"
   ]
  },
  {
   "cell_type": "markdown",
   "metadata": {},
   "source": [
    "### Arora-Ge Attack\n",
    "\n",
    "An algebraic attack when the max_error parameter is small.\n",
    "\n",
    "`https://eprint.iacr.org/2014/1018.pdf`\n"
   ]
  },
  {
   "cell_type": "code",
   "execution_count": 272,
   "metadata": {},
   "outputs": [],
   "source": [
    "# Weak Parameters\n",
    "n = 5\n",
    "q = 103\n",
    "max_error = 3\n",
    "E = 2*max_error + 1   # Cardinality of the error set\n",
    "\n",
    "# Set the number of samples wisely!\n",
    "# m = int(2 * comb(n+E, E))   # The number of eqations must be >> (n+S)C(s)\n",
    "# m = int(2 * n ** (E))\n",
    "m = 1000"
   ]
  },
  {
   "cell_type": "code",
   "execution_count": 273,
   "metadata": {},
   "outputs": [
    {
     "name": "stdout",
     "output_type": "stream",
     "text": [
      "Randomly Initalized Secret: [82, 21, 39, 30, 88]\n"
     ]
    }
   ],
   "source": [
    "# Initialize PKC with parameters\n",
    "lwe_d = LWE_Decrypt(n=n, q=q, max_error=max_error, list_size=m)\n",
    "\n",
    "# The secret is randomly initalized in the class\n",
    "A_list, b_list, q, max_error = lwe_d.get_public_keys()\n",
    "print(f\"Randomly Initalized Secret: {lwe_d.secret}\")"
   ]
  },
  {
   "cell_type": "markdown",
   "metadata": {},
   "source": [
    "We are going to recover the secret `s` from `A_list` and `b_list` given the following weak parameters,\n",
    "\n",
    "1. The error is truncated and takes values in the set $\\{-T, ... , -1, 0, 1, ... , T\\} \\implies |E| = 2T + 1$\n",
    "   <br>\n",
    "   <br>\n",
    "2. The number of equations in `A_list`, $m >> {n + |E| \\choose |E|}$\n"
   ]
  },
  {
   "cell_type": "code",
   "execution_count": 274,
   "metadata": {},
   "outputs": [
    {
     "name": "stdout",
     "output_type": "stream",
     "text": [
      "Cardinality of error set: 7\n",
      "Number of equations: 1000 >> 792\n"
     ]
    }
   ],
   "source": [
    "print(f\"Cardinality of error set: {E}\")\n",
    "print(f\"Number of equations: {len(A_list)} >> {comb(n+E, E)}\")"
   ]
  },
  {
   "cell_type": "code",
   "execution_count": 275,
   "metadata": {},
   "outputs": [],
   "source": [
    "from itertools import product\n",
    "from collections import defaultdict\n",
    "from sympy import symbols, Matrix, GF\n",
    "from sympy.polys.matrices import DomainMatrix"
   ]
  },
  {
   "cell_type": "code",
   "execution_count": 276,
   "metadata": {},
   "outputs": [
    {
     "data": {
      "text/plain": [
       "(x1, x2, x3, x4, x5)"
      ]
     },
     "execution_count": 276,
     "metadata": {},
     "output_type": "execute_result"
    }
   ],
   "source": [
    "# Define the secret vector\n",
    "secret_vector = symbols(f'x1:{n+1}')\n",
    "secret_vector"
   ]
  },
  {
   "cell_type": "code",
   "execution_count": 277,
   "metadata": {},
   "outputs": [],
   "source": [
    "polynomials_over_Zq = []\n",
    "error_set = [i for i in range(-max_error, max_error+1)] \n",
    "\n",
    "# Begin constructing the polynomials for each LWE instance <A, b>\n",
    "for A, b in zip(A_list, b_list):\n",
    "    # Initalize the polynomial term to the identity polynomial of the finite field\n",
    "    polynomial_over_Zq = GF(q)[secret_vector](1)\n",
    "\n",
    "    for e in error_set:\n",
    "        # Multiply each variable by its corresponding weight\n",
    "        weighted_polynomial = sum(w * var for w, var in zip(A, secret_vector))\n",
    "        # print(weighted_polynomial)\n",
    "\n",
    "        # Construct the weighted polynomial (this is the AT*s term in the equation)\n",
    "        weighted_secret_polynomial_over_Zq = GF(q)[secret_vector](weighted_polynomial)\n",
    "        # print(weighted_secret_polynomial_over_Zq)\n",
    "\n",
    "        # Complete the term (b - AT*s - e)\n",
    "        term = b - weighted_secret_polynomial_over_Zq - e\n",
    "        # print(term)\n",
    "\n",
    "        # Accumulate the product of each term over Zq\n",
    "        polynomial_over_Zq = polynomial_over_Zq * term\n",
    "        # print(polynomial_over_Zq)\n",
    "    \n",
    "    # Collect the polynomials\n",
    "    polynomials_over_Zq.append(polynomial_over_Zq)\n",
    "\n",
    "# Sanity check\n",
    "assert len(polynomials_over_Zq) == len(A_list)"
   ]
  },
  {
   "cell_type": "code",
   "execution_count": 278,
   "metadata": {},
   "outputs": [],
   "source": [
    "def generate_tuples(n, d):\n",
    "    # Use itertools.product to generate all tuples\n",
    "    tuples = list(product(range(d + 1), repeat=n))\n",
    "    \n",
    "    # Remove tuples that have a degree > d\n",
    "    tuples_pruned = [x for x in tuples if sum(x) <= d]\n",
    "\n",
    "    return tuples_pruned"
   ]
  },
  {
   "cell_type": "code",
   "execution_count": 279,
   "metadata": {},
   "outputs": [],
   "source": [
    "coefficients_dicts = []\n",
    "tuples = generate_tuples(n, E)\n",
    "\n",
    "for polynomial in polynomials_over_Zq:\n",
    "    coefficients_dict = defaultdict(int, {key: 0 for key in tuples})\n",
    "\n",
    "    for term_key, coeff in polynomial.terms():\n",
    "        coefficients_dict[term_key] = int(coeff) # NOTE: Converting to negative int!!!\n",
    "\n",
    "    coefficients_dicts.append(coefficients_dict)"
   ]
  },
  {
   "cell_type": "code",
   "execution_count": 280,
   "metadata": {},
   "outputs": [],
   "source": [
    "# # Checking an example\n",
    "# coefficients_dicts[0]"
   ]
  },
  {
   "cell_type": "code",
   "execution_count": 281,
   "metadata": {},
   "outputs": [],
   "source": [
    "row_order = []\n",
    "\n",
    "# Let's keep the degree 1 terms up front for convenince\n",
    "for i in range(n):\n",
    "    term = [0]*n\n",
    "    term[i] = 1\n",
    "    row_order.append(tuple(term))\n",
    "\n",
    "# We want the secret at the start and the constant term at the end\n",
    "seen = set(row_order)\n",
    "constant_term_key = tuple([0]*n)\n",
    "candidates = generate_tuples(n, E)\n",
    "\n",
    "for x in candidates:\n",
    "    if x not in seen and x != constant_term_key:\n",
    "        row_order.append(x)\n",
    "\n",
    "# Ensure the constant term is at the end\n",
    "row_order.append(constant_term_key)\n",
    "\n",
    "# Sanity check\n",
    "assert len(row_order) == len(generate_tuples(n, E))"
   ]
  },
  {
   "cell_type": "code",
   "execution_count": 282,
   "metadata": {},
   "outputs": [],
   "source": [
    "coefficient_matrix = []\n",
    "rhs = []\n",
    "\n",
    "for coeff_dict in coefficients_dicts:\n",
    "    row = []\n",
    "\n",
    "    for key in row_order[:-1]:\n",
    "        row.append(coeff_dict[key])\n",
    "    \n",
    "    # Append row\n",
    "    coefficient_matrix.append(row)\n",
    "\n",
    "    # Append the rhs\n",
    "    negative_constant_term = -coeff_dict[row_order[-1]]\n",
    "    rhs.append(negative_constant_term)"
   ]
  },
  {
   "cell_type": "code",
   "execution_count": 283,
   "metadata": {},
   "outputs": [
    {
     "name": "stdout",
     "output_type": "stream",
     "text": [
      "(1000, 791)\n",
      "(1000, 1)\n",
      "Matrix([[82], [21], [39], [30], [88], [19], [24], [52], [44], [61], [12], [65], [55], [102], [15], [84], [79], [76], [96], [2], [73], [38], [48], [14], [99], [60], [27], [7], [8], [86], [49], [89], [34], [5], [28], [93], [47], [9], [33], [20], [9], [71], [68], [10], [37], [63], [85], [64], [70], [83], [80], [36], [78], [66], [40], [31], [50], [74], [23], [3], [58], [57], [90], [92], [22], [79], [51], [59], [42], [91], [77], [1], [88], [19], [24], [52], [30], [65], [55], [102], [76], [96], [2], [14], [99], [8], [94], [32], [35], [93], [47], [39], [33], [20], [9], [37], [63], [85], [80], [36], [31], [61], [12], [26], [22], [79], [51], [59], [1], [88], [30], [10], [56], [87], [94], [32], [39], [81], [21], [61], [69], [97], [90], [92], [62], [100], [45], [12], [26], [22], [82], [6], [13], [51], [59], [42], [91], [77], [88], [19], [24], [52], [65], [55], [102], [96], [2], [99], [98], [75], [8], [86], [49], [89], [56], [87], [34], [5], [28], [32], [35], [93], [47], [33], [20], [9], [63], [85], [36], [11], [41], [3], [58], [57], [21], [97], [90], [92], [12], [26], [22], [51], [59], [88], [17], [54], [14], [99], [98], [75], [8], [56], [87], [32], [45], [46], [31], [11], [41], [21], [4], [43], [17], [53], [29], [80], [36], [78], [66], [40], [46], [31], [50], [74], [23], [41], [3], [58], [57], [97], [90], [92], [26], [22], [59], [101], [30], [65], [55], [102], [43], [76], [96], [2], [54], [14], [99], [75], [8], [87], [25], [37], [63], [85], [29], [80], [36], [46], [31], [41], [48], [1], [88], [101], [30], [43], [18], [39], [25], [84], [94], [32], [35], [93], [47], [39], [33], [20], [9], [37], [63], [85], [80], [36], [31], [61], [12], [26], [22], [79], [51], [59], [1], [88], [30], [10], [56], [87], [94], [32], [39], [81], [21], [61], [69], [17], [54], [14], [99], [98], [75], [8], [56], [87], [32], [45], [46], [31], [11], [41], [21], [4], [43], [17], [53], [48], [1], [88], [101], [30], [43], [18], [39], [25], [84], [81], [21], [61], [69], [53], [6], [13], [11], [41], [3], [58], [91], [77], [81], [21], [97], [90], [52], [44], [61], [12], [26], [15], [84], [79], [51], [38], [48], [1], [7], [101], [4], [5], [28], [95], [17], [54], [14], [47], [16], [69], [98], [75], [71], [68], [10], [56], [70], [83], [94], [40], [18], [67], [92], [62], [100], [45], [46], [82], [6], [13], [11], [91], [77], [81], [52], [44], [15], [86], [49], [89], [4], [5], [28], [95], [47], [16], [71], [58], [57], [72], [92], [62], [82], [99], [60], [86], [50], [74], [23], [67], [25], [37], [63], [57], [72], [53], [29], [80], [62], [100], [45], [46], [6], [13], [11], [77], [81], [44], [2], [73], [38], [48], [1], [60], [27], [7], [101], [49], [89], [4], [28], [95], [16], [78], [66], [40], [18], [74], [23], [67], [57], [72], [62], [55], [102], [15], [2], [73], [60], [85], [64], [78], [19], [9], [71], [68], [10], [56], [64], [70], [83], [94], [66], [40], [18], [23], [67], [72], [42], [91], [77], [81], [24], [52], [44], [102], [15], [73], [93], [47], [16], [9], [71], [64], [22], [82], [42], [34], [86], [49], [89], [4], [5], [28], [95], [47], [16], [71], [58], [57], [72], [92], [62], [82], [99], [60], [86], [50], [55], [102], [15], [2], [73], [60], [85], [64], [78], [19], [22], [82], [42], [34], [50], [29], [80], [36], [78], [66], [40], [46], [31], [50], [74], [23], [41], [3], [58], [57], [97], [90], [92], [26], [22], [59], [101], [30], [65], [55], [102], [43], [76], [96], [2], [54], [14], [99], [75], [8], [87], [25], [37], [63], [85], [29], [80], [36], [46], [31], [41], [48], [1], [88], [101], [30], [43], [18], [39], [25], [84], [94], [32], [35], [93], [47], [39], [33], [20], [9], [37], [63], [85], [80], [36], [31], [61], [12], [26], [22], [79], [51], [59], [1], [88], [30], [10], [56], [87], [94], [32], [39], [81], [21], [61], [69], [17], [54], [14], [99], [98], [75], [8], [56], [87], [32], [45], [46], [31], [11], [41], [21], [4], [43], [17], [53], [48], [1], [88], [101], [30], [43], [18], [39], [25], [84], [81], [21], [61], [69], [53], [9], [71], [68], [10], [56], [64], [70], [83], [94], [66], [40], [18], [23], [67], [72], [42], [91], [77], [81], [24], [52], [44], [102], [15], [73], [93], [47], [16], [9], [71], [64], [22], [82], [42], [34], [86], [49], [89], [4], [5], [28], [95], [47], [16], [71], [58], [57], [72], [92], [62], [82], [99], [60], [86], [50], [55], [102], [15], [2], [73], [60], [85], [64], [78], [19], [22], [82], [42], [34], [50], [17], [54], [14], [99], [98], [75], [8], [56], [87], [32], [45], [46], [31], [11], [41], [21], [4], [43], [17], [53], [48], [1], [88], [101], [30], [43], [18], [39], [25], [84], [81], [21], [61], [69], [53], [55], [102], [15], [2], [73], [60], [85], [64], [78], [19], [22], [82], [42], [34], [50], [81], [21], [61], [69], [53], [50]])\n"
     ]
    }
   ],
   "source": [
    "# Solving linear system using DomainMatrix\n",
    "m = Matrix(coefficient_matrix)\n",
    "b = Matrix(rhs)\n",
    "\n",
    "# Convert matrices to finite field of order q (q is prime):\n",
    "K = GF(q, symmetric=False)\n",
    "dm = DomainMatrix.from_Matrix(m).convert_to(K)\n",
    "bm = DomainMatrix.from_Matrix(b).convert_to(K)\n",
    "\n",
    "# Print shape of system of equations\n",
    "print(dm.shape)\n",
    "print(bm.shape)\n",
    "\n",
    "# Solve and convert back to an ordinary Matrix:\n",
    "solution_vector = dm.lu_solve(bm).to_Matrix()\n",
    "print(solution_vector)"
   ]
  },
  {
   "cell_type": "code",
   "execution_count": 284,
   "metadata": {},
   "outputs": [
    {
     "name": "stdout",
     "output_type": "stream",
     "text": [
      "Randomly Initalized Secret:\t\t[82, 21, 39, 30, 88]\n",
      "Secret obtained from Arora-Ge Attack:\t[82, 21, 39, 30, 88]\n"
     ]
    }
   ],
   "source": [
    "print(f\"Randomly Initalized Secret:\\t\\t{lwe_d.secret}\")\n",
    "print(f\"Secret obtained from Arora-Ge Attack:\\t{solution_vector[:n]}\")"
   ]
  },
  {
   "cell_type": "markdown",
   "metadata": {},
   "source": [
    "Works pretty well for `n <= 5` E can be set to even 10 provided m is set accordingly.\n"
   ]
  },
  {
   "cell_type": "markdown",
   "metadata": {},
   "source": [
    "### Efficient Implementation using Groebner Basis\n",
    "\n",
    "Does not work very well, better implement in Sage.\n"
   ]
  },
  {
   "cell_type": "code",
   "execution_count": 285,
   "metadata": {},
   "outputs": [],
   "source": [
    "# from sympy import symbols, Poly, GF, groebner\n",
    "\n",
    "# def arora_ge_attack(q, A, b, E, S=None):\n",
    "#     \"\"\"\n",
    "#     Recovers the secret key s from the LWE samples A and b.\n",
    "#     More information: \"The Learning with Errors Problem: Algorithms\" (Section 1)\n",
    "#     :param q: the modulus\n",
    "#     :param A: the matrix A, represented as a list of lists\n",
    "#     :param b: the vector b, represented as a list\n",
    "#     :param E: the possible error values\n",
    "#     :param S: the possible values of the entries in s (default: None)\n",
    "#     :return: a list representing the secret key s\n",
    "#     \"\"\"\n",
    "#     m = len(A)\n",
    "#     n = len(A[0])\n",
    "\n",
    "#     x = symbols(tuple(f\"x{i}\" for i in range(n)))\n",
    "#     gf = GF(q)\n",
    "#     pr = gf[x]\n",
    "#     gens = pr.symbols\n",
    "\n",
    "#     f = []\n",
    "#     for i in range(m):\n",
    "#         p = 1\n",
    "#         for e in E:\n",
    "#             p *= (b[i] - sum(A[i][j] * gens[j] for j in range(n)) - e)\n",
    "#         f.append(p)\n",
    "\n",
    "#     if S is not None:\n",
    "#         # Use information about the possible values for s to add more polynomials.\n",
    "#         for j in range(n):\n",
    "#             p = 1\n",
    "#             for s in S:\n",
    "#                 p *= (gens[j] - s)\n",
    "#             f.append(p)\n",
    "\n",
    "#     ideal = [Poly(poly, gens) for poly in f]\n",
    "#     basis = groebner(ideal, gens, order='lex')\n",
    "\n",
    "#     s = []\n",
    "#     for poly in basis:\n",
    "#         #assert poly.variables() == 1 and poly.degree() == 1\n",
    "#         s.append(int(-poly.coeffs()[0]))\n",
    "\n",
    "#     return s"
   ]
  },
  {
   "cell_type": "code",
   "execution_count": 286,
   "metadata": {},
   "outputs": [],
   "source": [
    "# error_values = [i for i in range(-max_error, max_error+1)] \n",
    "# x = arora_ge_attack(q=q, A=A_list, b=b_list, E=error_values)"
   ]
  }
 ],
 "metadata": {
  "kernelspec": {
   "display_name": "cz4010",
   "language": "python",
   "name": "python3"
  },
  "language_info": {
   "codemirror_mode": {
    "name": "ipython",
    "version": 3
   },
   "file_extension": ".py",
   "mimetype": "text/x-python",
   "name": "python",
   "nbconvert_exporter": "python",
   "pygments_lexer": "ipython3",
   "version": "3.10.13"
  }
 },
 "nbformat": 4,
 "nbformat_minor": 2
}
