{
 "cells": [
  {
   "cell_type": "code",
   "execution_count": 2,
   "metadata": {},
   "outputs": [],
   "source": [
    "# Set root directory\n",
    "import os\n",
    "\n",
    "ROOT_DIR = \"D:\\Coding\\CZ4010\\Applied-Cryptography-Project\"\n",
    "os.chdir(ROOT_DIR)"
   ]
  },
  {
   "cell_type": "code",
   "execution_count": 4,
   "metadata": {},
   "outputs": [],
   "source": [
    "from utils import ascii_to_binary_list, binary_list_to_ascii\n",
    "from LWE_PKC import LWE_Encrypt, LWE_Decrypt\n",
    "from math import comb"
   ]
  },
  {
   "cell_type": "markdown",
   "metadata": {},
   "source": [
    "### 1. Testing out the Cryptosystem"
   ]
  },
  {
   "cell_type": "code",
   "execution_count": 5,
   "metadata": {},
   "outputs": [],
   "source": [
    "bit_message = [1]"
   ]
  },
  {
   "cell_type": "code",
   "execution_count": 6,
   "metadata": {},
   "outputs": [],
   "source": [
    "# Weak Parameters\n",
    "n = 3\n",
    "q = 17\n",
    "max_error = 1\n",
    "S = 2*max_error + 1   # Cardinality of the error set\n",
    "m = 2*comb(n+S, S)    # The number of eqations must be >> (n+S)C(s)"
   ]
  },
  {
   "cell_type": "code",
   "execution_count": 7,
   "metadata": {},
   "outputs": [
    {
     "name": "stdout",
     "output_type": "stream",
     "text": [
      "Randomly Initalized Secret: [9, 2, 2]\n"
     ]
    }
   ],
   "source": [
    "# Initialize PKC with parameters\n",
    "lwe_d = LWE_Decrypt(n=n, q=q, max_error=max_error, list_size=m)\n",
    "\n",
    "# Get public keys\n",
    "A_list, T_list, q, max_error = lwe_d.get_public_keys()\n",
    "# print(A_list)\n",
    "# print(T_list)\n",
    "print(f\"Randomly Initalized Secret: {lwe_d.secret}\")"
   ]
  },
  {
   "cell_type": "code",
   "execution_count": 8,
   "metadata": {},
   "outputs": [
    {
     "name": "stdout",
     "output_type": "stream",
     "text": [
      "A_new = [array([11, 15, 11], dtype=int32)]\n",
      "T_send = [8]\n"
     ]
    }
   ],
   "source": [
    "# Encrypt Message\n",
    "lwe_e = LWE_Encrypt(A_list, T_list, q, max_error)\n",
    "A_new, T_send = lwe_e.encrypt_message(bit_message)\n",
    "print(f\"A_new = {A_new}\\nT_send = {T_send}\")"
   ]
  },
  {
   "cell_type": "code",
   "execution_count": 9,
   "metadata": {},
   "outputs": [
    {
     "name": "stdout",
     "output_type": "stream",
     "text": [
      "Decrypted Message = [1]\n"
     ]
    }
   ],
   "source": [
    "# Decrypt Message\n",
    "decrypted_binary_message = lwe_d.decrypt_message(A_new, T_send)\n",
    "decrypted_message = binary_list_to_ascii(decrypted_binary_message)\n",
    "print(f\"Decrypted Message = {decrypted_binary_message}\")"
   ]
  },
  {
   "cell_type": "markdown",
   "metadata": {},
   "source": [
    "### Arora-Ge Attack\n",
    "\n",
    "A brute force attack when the max_error parameter is small."
   ]
  },
  {
   "cell_type": "code",
   "execution_count": 732,
   "metadata": {},
   "outputs": [],
   "source": [
    "# Weak Parameters\n",
    "n = 1\n",
    "q = 11\n",
    "max_error = 1\n",
    "E = 2*max_error + 1   # Cardinality of the error set\n",
    "m = int(20 * comb(n+E, E))    # The number of eqations must be >> (n+S)C(s)"
   ]
  },
  {
   "cell_type": "code",
   "execution_count": 733,
   "metadata": {},
   "outputs": [
    {
     "name": "stdout",
     "output_type": "stream",
     "text": [
      "Randomly Initalized Secret: [5]\n"
     ]
    }
   ],
   "source": [
    "# Initialize PKC with parameters\n",
    "lwe_d = LWE_Decrypt(n=n, q=q, max_error=max_error, list_size=m)\n",
    "\n",
    "# The secret is randomly initalized in the class\n",
    "A_list, b_list, q, max_error = lwe_d.get_public_keys()\n",
    "print(f\"Randomly Initalized Secret: {lwe_d.secret}\")"
   ]
  },
  {
   "cell_type": "markdown",
   "metadata": {},
   "source": [
    "We are going to recover the secret `s` from `A_list` and `b_list` given the following weak parameters,\n",
    "\n",
    "1. The error is truncated and takes values in the set $\\{-1, 0, 1\\} \\implies |E| = 3$ \n",
    "<br>\n",
    "<br>\n",
    "2. The number of equations in `A_list`, $m >> {n + |E| \\choose |E|}$"
   ]
  },
  {
   "cell_type": "code",
   "execution_count": 734,
   "metadata": {},
   "outputs": [
    {
     "name": "stdout",
     "output_type": "stream",
     "text": [
      "Cardinality of error set: 3\n",
      "Number of equations: 80 >> 4\n"
     ]
    }
   ],
   "source": [
    "print(f\"Cardinality of error set: {E}\")\n",
    "print(f\"Number of equations: {len(A_list)} >> {comb(n+E, E)}\")"
   ]
  },
  {
   "cell_type": "code",
   "execution_count": 735,
   "metadata": {},
   "outputs": [],
   "source": [
    "from itertools import product\n",
    "from collections import defaultdict\n",
    "from sympy import symbols, Eq, Mod, Poly, Matrix, GF\n",
    "from sympy.polys.matrices import DomainMatrix"
   ]
  },
  {
   "cell_type": "code",
   "execution_count": 736,
   "metadata": {},
   "outputs": [
    {
     "data": {
      "text/plain": [
       "(x1,)"
      ]
     },
     "execution_count": 736,
     "metadata": {},
     "output_type": "execute_result"
    }
   ],
   "source": [
    "# Define the secret vector\n",
    "secret_vector = symbols(f'x1:{n+1}')\n",
    "secret_vector"
   ]
  },
  {
   "cell_type": "code",
   "execution_count": 737,
   "metadata": {},
   "outputs": [
    {
     "name": "stdout",
     "output_type": "stream",
     "text": [
      "80\n"
     ]
    }
   ],
   "source": [
    "polynomials_over_Zq = []\n",
    "error_set = [i for i in range(-max_error, max_error+1)] \n",
    "\n",
    "# Begin constructing the polynomials for each LWE instance <A, b>\n",
    "for A, b in zip(A_list, b_list):\n",
    "    # Initalize the polynomial term to the identity polynomial of the finite field\n",
    "    polynomial_over_Zq = GF(q)[secret_vector](1)\n",
    "\n",
    "    for e in error_set:\n",
    "        # Multiply each variable by its corresponding weight\n",
    "        weighted_polynomial = sum(w * var for w, var in zip(A, secret_vector))\n",
    "        # print(weighted_polynomial)\n",
    "\n",
    "        # Construct the weighted polynomial (this is the AT*s term in the equation)\n",
    "        weighted_secret_polynomial_over_Zq = GF(q)[secret_vector](weighted_polynomial)\n",
    "        # print(weighted_secret_polynomial_over_Zq)\n",
    "\n",
    "        # Complete the term (b - AT*s - e)\n",
    "        term = b - weighted_secret_polynomial_over_Zq - e\n",
    "        # print(term)\n",
    "\n",
    "        # Accumulate the product of each term over Zq\n",
    "        polynomial_over_Zq = polynomial_over_Zq * term\n",
    "        # print(polynomial_over_Zq)\n",
    "\n",
    "    #print(polynomial_over_Zq)\n",
    "    polynomials_over_Zq.append(polynomial_over_Zq)\n",
    "\n",
    "print(len(polynomials_over_Zq))"
   ]
  },
  {
   "cell_type": "code",
   "execution_count": 738,
   "metadata": {},
   "outputs": [
    {
     "name": "stdout",
     "output_type": "stream",
     "text": [
      "9 mod 11*x1**3 + 8 mod 11*x1**2 + 6 mod 11\n"
     ]
    }
   ],
   "source": [
    "print(polynomials_over_Zq[0])"
   ]
  },
  {
   "cell_type": "code",
   "execution_count": 739,
   "metadata": {},
   "outputs": [
    {
     "data": {
      "text/plain": [
       "[((3,), SymmetricModularIntegerMod11(5)), ((2,), SymmetricModularIntegerMod11(7)), ((1,), SymmetricModularIntegerMod11(1)), ((0,), SymmetricModularIntegerMod11(9))]"
      ]
     },
     "execution_count": 739,
     "metadata": {},
     "output_type": "execute_result"
    }
   ],
   "source": [
    "polynomials_over_Zq[1].terms()"
   ]
  },
  {
   "cell_type": "code",
   "execution_count": 740,
   "metadata": {},
   "outputs": [],
   "source": [
    "def generate_tuples(n, S):\n",
    "    # Use itertools.product to generate all tuples\n",
    "    tuples = list(product(range(S + 1), repeat=n))\n",
    "    return tuples\n",
    "\n",
    "tuples = generate_tuples(n, S)"
   ]
  },
  {
   "cell_type": "code",
   "execution_count": 741,
   "metadata": {},
   "outputs": [],
   "source": [
    "coefficients_dicts = []\n",
    "\n",
    "for polynomial in polynomials_over_Zq:\n",
    "    coefficients_dict = defaultdict(int, {key: 0 for key in tuples})\n",
    "\n",
    "    for term_key, coeff in polynomial.terms():\n",
    "        coefficients_dict[term_key] = int(coeff) # NOTE: Converting to negative int!!!\n",
    "\n",
    "    coefficients_dicts.append(coefficients_dict)"
   ]
  },
  {
   "cell_type": "code",
   "execution_count": 742,
   "metadata": {},
   "outputs": [
    {
     "data": {
      "text/plain": [
       "defaultdict(<class 'int'>, {(0,): -5, (1,): 0, (2,): -3, (3,): -2})"
      ]
     },
     "execution_count": 742,
     "metadata": {},
     "output_type": "execute_result"
    }
   ],
   "source": [
    "coefficients_dicts[0]"
   ]
  },
  {
   "cell_type": "code",
   "execution_count": 743,
   "metadata": {},
   "outputs": [],
   "source": [
    "row_order = []\n",
    "\n",
    "# Let's keep the degree 1 terms up front for convenince\n",
    "for i in range(n):\n",
    "    term = [0]*n\n",
    "    term[i] = 1\n",
    "    row_order.append(tuple(term))\n",
    "\n",
    "constant_term_key = tuple([0]*n)\n",
    "seen = set(row_order)\n",
    "candidates = generate_tuples(n, S)\n",
    "\n",
    "for x in candidates:\n",
    "    if x not in seen and x != constant_term_key:\n",
    "        row_order.append(x)\n",
    "\n",
    "row_order.append(constant_term_key)\n",
    "\n",
    "# Sanoty check\n",
    "assert len(row_order) == len(generate_tuples(n, S))"
   ]
  },
  {
   "cell_type": "code",
   "execution_count": 744,
   "metadata": {},
   "outputs": [],
   "source": [
    "coefficient_matrix = []\n",
    "rhs = []\n",
    "\n",
    "for coeff_dict in coefficients_dicts:\n",
    "    row = []\n",
    "\n",
    "    for key in row_order[:-1]:\n",
    "        row.append(coeff_dict[key])\n",
    "    \n",
    "    # Append row\n",
    "    coefficient_matrix.append(row)\n",
    "\n",
    "    # Append the rhs\n",
    "    negative_constant_term = -coeff_dict[row_order[-1]]\n",
    "    rhs.append(negative_constant_term)"
   ]
  },
  {
   "cell_type": "code",
   "execution_count": 745,
   "metadata": {},
   "outputs": [
    {
     "name": "stdout",
     "output_type": "stream",
     "text": [
      "(80, 3)\n",
      "(80, 1)\n",
      "Matrix([[5], [3], [4]])\n"
     ]
    }
   ],
   "source": [
    "# Solving linear system using DomainMatrix\n",
    "m = Matrix(coefficient_matrix)\n",
    "b = Matrix(rhs)\n",
    "\n",
    "# Convert matrices to finite field of order q (q is prime):\n",
    "K = GF(q, symmetric=False)\n",
    "dm = DomainMatrix.from_Matrix(m).convert_to(K)\n",
    "bm = DomainMatrix.from_Matrix(b).convert_to(K)\n",
    "\n",
    "# Print shape of system of equations\n",
    "print(m.shape)\n",
    "print(b.shape)\n",
    "\n",
    "# Solve and convert back to an ordinary Matrix:\n",
    "solution_vector = dm.lu_solve(bm).to_Matrix()\n",
    "print(solution_vector)"
   ]
  },
  {
   "cell_type": "code",
   "execution_count": 746,
   "metadata": {},
   "outputs": [
    {
     "name": "stdout",
     "output_type": "stream",
     "text": [
      "(80, 3)\n",
      "(80,)\n",
      "Padded Matrix Shape: (80, 80)\n",
      "(array([ 0.04512065, -0.28698019,  0.05304032,  0.        ,  0.        ,\n",
      "        0.        ,  0.        ,  0.        ,  0.        ,  0.        ,\n",
      "        0.        ,  0.        ,  0.        ,  0.        ,  0.        ,\n",
      "        0.        ,  0.        ,  0.        ,  0.        ,  0.        ,\n",
      "        0.        ,  0.        ,  0.        ,  0.        ,  0.        ,\n",
      "        0.        ,  0.        ,  0.        ,  0.        ,  0.        ,\n",
      "        0.        ,  0.        ,  0.        ,  0.        ,  0.        ,\n",
      "        0.        ,  0.        ,  0.        ,  0.        ,  0.        ,\n",
      "        0.        ,  0.        ,  0.        ,  0.        ,  0.        ,\n",
      "        0.        ,  0.        ,  0.        ,  0.        ,  0.        ,\n",
      "        0.        ,  0.        ,  0.        ,  0.        ,  0.        ,\n",
      "        0.        ,  0.        ,  0.        ,  0.        ,  0.        ,\n",
      "        0.        ,  0.        ,  0.        ,  0.        ,  0.        ,\n",
      "        0.        ,  0.        ,  0.        ,  0.        ,  0.        ,\n",
      "        0.        ,  0.        ,  0.        ,  0.        ,  0.        ,\n",
      "        0.        ,  0.        ,  0.        ,  0.        ,  0.        ]), array([], dtype=float64), 3, array([3.19057820e+01, 2.49297119e+01, 2.07009792e+01, 3.44999165e-15,\n",
      "       3.44999165e-15, 3.44999165e-15, 3.44999165e-15, 3.44999165e-15,\n",
      "       3.44999165e-15, 3.44999165e-15, 3.44999165e-15, 3.44999165e-15,\n",
      "       3.44999165e-15, 3.44999165e-15, 3.44999165e-15, 3.44999165e-15,\n",
      "       3.44999165e-15, 3.44999165e-15, 3.44999165e-15, 3.44999165e-15,\n",
      "       3.44999165e-15, 3.44999165e-15, 3.44999165e-15, 3.44999165e-15,\n",
      "       3.44999165e-15, 3.44999165e-15, 3.44999165e-15, 3.44999165e-15,\n",
      "       3.44999165e-15, 3.44999165e-15, 3.44999165e-15, 3.44999165e-15,\n",
      "       3.44999165e-15, 3.44999165e-15, 3.44999165e-15, 3.44999165e-15,\n",
      "       3.44999165e-15, 3.44999165e-15, 3.44999165e-15, 3.44999165e-15,\n",
      "       3.44999165e-15, 3.44999165e-15, 3.44999165e-15, 3.44999165e-15,\n",
      "       3.44999165e-15, 3.44999165e-15, 3.44999165e-15, 3.44999165e-15,\n",
      "       3.44999165e-15, 3.44999165e-15, 3.44999165e-15, 3.44999165e-15,\n",
      "       3.44999165e-15, 3.44999165e-15, 3.44999165e-15, 3.44999165e-15,\n",
      "       3.44999165e-15, 3.44999165e-15, 3.44999165e-15, 3.44999165e-15,\n",
      "       3.44999165e-15, 3.44999165e-15, 3.44999165e-15, 3.44999165e-15,\n",
      "       3.44999165e-15, 3.44999165e-15, 3.44999165e-15, 3.44999165e-15,\n",
      "       3.44999165e-15, 3.44999165e-15, 3.44999165e-15, 3.44999165e-15,\n",
      "       3.44999165e-15, 3.44999165e-15, 3.44999165e-15, 3.44999165e-15,\n",
      "       3.44999165e-15, 3.44999165e-15, 3.44999165e-15, 3.44999165e-15]))\n"
     ]
    },
    {
     "name": "stderr",
     "output_type": "stream",
     "text": [
      "C:\\Users\\rahul\\AppData\\Local\\Temp\\ipykernel_27352\\1197516898.py:25: FutureWarning: `rcond` parameter will change to the default of machine precision times ``max(M, N)`` where M and N are the input matrix dimensions.\n",
      "To use the future default and silence this warning we advise to pass `rcond=None`, to keep using the old, explicitly pass `rcond=-1`.\n",
      "  solution_base_10 = np.linalg.lstsq(padded_matrix, d)\n"
     ]
    }
   ],
   "source": [
    "# import numpy as np\n",
    "\n",
    "# Ax = np.array(coefficient_matrix)\n",
    "# d = np.array(rhs)\n",
    "\n",
    "# # Print shape of system of equations\n",
    "# print(Ax.shape)\n",
    "# print(d.shape)\n",
    "\n",
    "# # Get the dimensions of the original matrix\n",
    "# num_rows, num_cols = Ax.shape\n",
    "\n",
    "# # Determine the size of padding needed\n",
    "# padding_size = max(0, num_rows - num_cols)\n",
    "\n",
    "# # Pad the matrix with zeros to make it square\n",
    "# padded_matrix = np.pad(Ax, ((0, 0), (0, padding_size)), mode='constant')\n",
    "\n",
    "# # Print shape of the padded matrix\n",
    "# print(\"Padded Matrix Shape:\", padded_matrix.shape)\n",
    "\n",
    "# try:\n",
    "#     solution_base_10 = np.linalg.solve(padded_matrix, d)\n",
    "# except:\n",
    "#     solution_base_10 = np.linalg.lstsq(padded_matrix, d)\n",
    "\n",
    "# print(solution_base_10)"
   ]
  },
  {
   "cell_type": "code",
   "execution_count": 747,
   "metadata": {},
   "outputs": [
    {
     "name": "stdout",
     "output_type": "stream",
     "text": [
      "Randomly Initalized Secret: \t\t\t[5]\n",
      "Secret obtained from Arora-Ge Attack: \t(x1,) = [5]\n"
     ]
    }
   ],
   "source": [
    "print(f\"Randomly Initalized Secret: \\t\\t\\t{lwe_d.secret}\")\n",
    "print(f\"Secret obtained from Arora-Ge Attack: \\t{secret_vector} = {solution_vector[:n]}\")"
   ]
  },
  {
   "cell_type": "code",
   "execution_count": null,
   "metadata": {},
   "outputs": [],
   "source": []
  }
 ],
 "metadata": {
  "kernelspec": {
   "display_name": "cz4010",
   "language": "python",
   "name": "python3"
  },
  "language_info": {
   "codemirror_mode": {
    "name": "ipython",
    "version": 3
   },
   "file_extension": ".py",
   "mimetype": "text/x-python",
   "name": "python",
   "nbconvert_exporter": "python",
   "pygments_lexer": "ipython3",
   "version": "3.10.13"
  }
 },
 "nbformat": 4,
 "nbformat_minor": 2
}
